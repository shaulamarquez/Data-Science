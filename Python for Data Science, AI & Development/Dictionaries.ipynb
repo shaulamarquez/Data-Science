{
 "cells": [
  {
   "cell_type": "markdown",
   "id": "90606f63-e815-4210-ae62-83310c0adc9e",
   "metadata": {},
   "source": [
    "<center>\n",
    "    <img src=\"https://cf-courses-data.s3.us.cloud-object-storage.appdomain.cloud/IBMDeveloperSkillsNetwork-PY0101EN-SkillsNetwork/IDSNlogo.png\" width=\"300\" alt=\"cognitiveclass.ai logo\">\n",
    "</center>\n",
    "\n",
    "# Dictionaries in Python\n",
    "\n",
    "Estimated time needed: **30** minutes\n",
    "\n",
    "## Objectives\n",
    "\n",
    "After completing this lab you will be able to:\n",
    "\n",
    "*  Create a Dictionary and perform operations on the Dictionary\n"
   ]
  },
  {
   "cell_type": "markdown",
   "id": "df6a19b8-c97d-41fa-9b3b-3603096fe88a",
   "metadata": {},
   "source": [
    "<h2>Table of Contents</h2>\n",
    "<div class=\"alert alert-block alert-info\" style=\"margin-top: 20px\">\n",
    "    <ul>\n",
    "        <li>\n",
    "            <a href=\"#dic\">Dictionaries</a>\n",
    "            <ul>\n",
    "                <li><a href=\"#content\">What are Dictionaries?</a></li>\n",
    "                <li><a href=\"#keys\">Keys</a></li>\n",
    "            </ul>\n",
    "        </li>\n",
    "        <li>\n",
    "            <a href=\"#quiz\">Quiz on Dictionaries</a>\n",
    "        </li>\n",
    "        <li> \n",
    "            <a href=\"#Scenario\">Scenario</a>\n",
    "        </li>\n",
    "    </ul>\n",
    "\n",
    "</div>\n",
    "\n",
    "<hr>\n"
   ]
  },
  {
   "cell_type": "markdown",
   "id": "ba0edc83-bbb8-4764-9ae6-88e39435f8ff",
   "metadata": {},
   "source": [
    "<a id=\"dic\"></a>\n",
    "## Dictionaries\n"
   ]
  },
  {
   "cell_type": "markdown",
   "id": "386bffb5-2a31-4996-b836-a4d3e7413e61",
   "metadata": {},
   "source": [
    "<a id=\"content\"></a>\n",
    "## What are Dictionaries?\n"
   ]
  },
  {
   "cell_type": "markdown",
   "id": "b0639a73-d030-4b47-af60-2b4d5e14e501",
   "metadata": {},
   "source": [
    "A dictionary consists of keys and values. It is helpful to compare a dictionary to a list. Instead of being indexed numerically like a list, dictionaries have keys. These keys are the keys that are used to access values within a dictionary.   \n",
    "\n",
    "\n",
    "The best example of a dictionary can be accessing person's detais using the **social security number**.   \n",
    "Here the social security number which is a unique number will be the **key** and the details of the people will be the **values** associated with it.\n"
   ]
  },
  {
   "cell_type": "markdown",
   "id": "80bdebef-817d-42f3-a3ce-f2263490326a",
   "metadata": {},
   "source": [
    "<img src=\"https://cf-courses-data.s3.us.cloud-object-storage.appdomain.cloud/IBMDeveloperSkillsNetwork-PY0101EN-SkillsNetwork/labs/Module%202/images/DictsList.png\" width=\"650\">\n"
   ]
  },
  {
   "cell_type": "markdown",
   "id": "1686de6b-2839-4f3f-8218-600649a52a60",
   "metadata": {},
   "source": [
    "### Create a Dictionary and access the elements\n"
   ]
  },
  {
   "cell_type": "markdown",
   "id": "02df8d9f-57d7-44cd-8784-09baba8eb916",
   "metadata": {},
   "source": [
    "An example of a Dictionary <code>Dict</code>:\n",
    "Here we are creating a dictionary named **Dict** with he following details\n",
    "\n",
    "* Keys are **key1, key2, key3, key4, key5**.\n",
    "* Values are {1,2,[3,3,3],(4,4,4),5,(0,1):6} corresponding to the keys\n"
   ]
  },
  {
   "cell_type": "code",
   "execution_count": 1,
   "id": "4b0f3594-dac5-45b7-bff0-2db10682674b",
   "metadata": {},
   "outputs": [
    {
     "data": {
      "text/plain": [
       "{'key1': 1,\n",
       " 'key2': '2',\n",
       " 'key3': [3, 3, 3],\n",
       " 'key4': (4, 4, 4),\n",
       " 'key5': 5,\n",
       " (0, 1): 6}"
      ]
     },
     "execution_count": 1,
     "metadata": {},
     "output_type": "execute_result"
    }
   ],
   "source": [
    "# Create the dictionary\n",
    "\n",
    "Dict = {\"key1\": 1, \"key2\": \"2\", \"key3\": [3, 3, 3], \"key4\": (4, 4, 4), ('key5'): 5, (0, 1): 6}\n",
    "Dict"
   ]
  },
  {
   "cell_type": "markdown",
   "id": "1b5a2ef6-3db4-42a7-a642-cb7d4feb56ca",
   "metadata": {},
   "source": [
    "The keys can be strings:\n"
   ]
  },
  {
   "cell_type": "code",
   "execution_count": 2,
   "id": "a97a5cea-4ccd-4d87-9519-c41e6016bb75",
   "metadata": {},
   "outputs": [
    {
     "data": {
      "text/plain": [
       "1"
      ]
     },
     "execution_count": 2,
     "metadata": {},
     "output_type": "execute_result"
    }
   ],
   "source": [
    "# Access to the value by the key\n",
    "\n",
    "Dict[\"key1\"]"
   ]
  },
  {
   "cell_type": "markdown",
   "id": "2efd4468-5ac8-4593-a2cd-f1b73507a2ee",
   "metadata": {},
   "source": [
    "Keys can also be any immutable object such as a tuple:\n"
   ]
  },
  {
   "cell_type": "code",
   "execution_count": 3,
   "id": "4601b5bd-9134-4bcb-a2da-c43003e9f1f0",
   "metadata": {},
   "outputs": [
    {
     "data": {
      "text/plain": [
       "6"
      ]
     },
     "execution_count": 3,
     "metadata": {},
     "output_type": "execute_result"
    }
   ],
   "source": [
    "# Access to the value by the key\n",
    "\n",
    "Dict[(0, 1)]"
   ]
  },
  {
   "cell_type": "markdown",
   "id": "6fa6841f-1497-45bb-9ea8-9c8a93ece4be",
   "metadata": {},
   "source": [
    "Each key is separated from its value by a colon \"<code>:</code>\".  Commas separate the items, and the whole dictionary is enclosed in curly braces. An empty dictionary without any items is written with just two curly braces, like this  \"<code>{}</code>\".\n"
   ]
  },
  {
   "cell_type": "code",
   "execution_count": 4,
   "id": "a282719e-1b49-47aa-9cfe-8977ed39f440",
   "metadata": {},
   "outputs": [
    {
     "data": {
      "text/plain": [
       "{'Thriller': '1982',\n",
       " 'Back in Black': '1980',\n",
       " 'The Dark Side of the Moon': '1973',\n",
       " 'The Bodyguard': '1992',\n",
       " 'Bat Out of Hell': '1977',\n",
       " 'Their Greatest Hits (1971-1975)': '1976',\n",
       " 'Saturday Night Fever': '1977',\n",
       " 'Rumours': '1977'}"
      ]
     },
     "execution_count": 4,
     "metadata": {},
     "output_type": "execute_result"
    }
   ],
   "source": [
    "# Create a sample dictionary\n",
    "\n",
    "release_year_dict = {\"Thriller\": \"1982\", \"Back in Black\": \"1980\", \\\n",
    "                    \"The Dark Side of the Moon\": \"1973\", \"The Bodyguard\": \"1992\", \\\n",
    "                    \"Bat Out of Hell\": \"1977\", \"Their Greatest Hits (1971-1975)\": \"1976\", \\\n",
    "                    \"Saturday Night Fever\": \"1977\", \"Rumours\": \"1977\"}\n",
    "release_year_dict"
   ]
  },
  {
   "cell_type": "markdown",
   "id": "4415f4fc-520d-4423-adac-804dc990842a",
   "metadata": {},
   "source": [
    "In summary, like a list, a dictionary holds a sequence of elements. Each element is represented by a key and its corresponding value. Dictionaries are created with two curly braces containing keys and values separated by a colon. For every key, there can only be one single value, however,  multiple keys can hold the same value. Keys can only be strings, numbers, or tuples, but values can be any data type.\n"
   ]
  },
  {
   "cell_type": "markdown",
   "id": "bc43f911-df95-49b7-8c61-0eaa8069a984",
   "metadata": {},
   "source": [
    "It is helpful to visualize the dictionary as a table, as in the following image. The first column represents the keys, the second column represents the values.\n"
   ]
  },
  {
   "cell_type": "markdown",
   "id": "32b630e3-92f4-442b-8212-00027553ec0b",
   "metadata": {},
   "source": [
    "<img src=\"https://cf-courses-data.s3.us.cloud-object-storage.appdomain.cloud/IBMDeveloperSkillsNetwork-PY0101EN-SkillsNetwork/labs/Module%202/images/DictsStructure.png\" width=\"650\">\n"
   ]
  },
  {
   "cell_type": "markdown",
   "id": "5fe95a4b-aa03-48a3-9b27-48213f45f5dc",
   "metadata": {},
   "source": [
    "<a id=\"keys\"></a>\n",
    "## Keys\n"
   ]
  },
  {
   "cell_type": "markdown",
   "id": "79f06232-bf62-43fd-a9b6-ebcf0299b587",
   "metadata": {},
   "source": [
    "You can retrieve the values based on the names:\n"
   ]
  },
  {
   "cell_type": "code",
   "execution_count": 5,
   "id": "bdd49430-568e-4311-8b8d-de241ab6291b",
   "metadata": {},
   "outputs": [
    {
     "data": {
      "text/plain": [
       "'1982'"
      ]
     },
     "execution_count": 5,
     "metadata": {},
     "output_type": "execute_result"
    }
   ],
   "source": [
    "# Get value by keys\n",
    "\n",
    "release_year_dict['Thriller'] "
   ]
  },
  {
   "cell_type": "markdown",
   "id": "7775abc0-03eb-481f-9194-a2d8b3fd3ca1",
   "metadata": {},
   "source": [
    "This corresponds to:\n"
   ]
  },
  {
   "cell_type": "markdown",
   "id": "f21d1bba-f2b4-4694-aa92-601d8c446f41",
   "metadata": {},
   "source": [
    "<img src=\"https://cf-courses-data.s3.us.cloud-object-storage.appdomain.cloud/IBMDeveloperSkillsNetwork-PY0101EN-SkillsNetwork/labs/Module%202/images/DictsKeyOne.png\" width=\"500\">\n"
   ]
  },
  {
   "cell_type": "markdown",
   "id": "cda8e6b7-d8f1-4317-bb2a-6c30459d9346",
   "metadata": {},
   "source": [
    "Similarly for <b>The Bodyguard</b>\n"
   ]
  },
  {
   "cell_type": "code",
   "execution_count": 6,
   "id": "aab2bcdb-fa1b-4f18-bbbf-d1786f19c840",
   "metadata": {},
   "outputs": [
    {
     "data": {
      "text/plain": [
       "'1992'"
      ]
     },
     "execution_count": 6,
     "metadata": {},
     "output_type": "execute_result"
    }
   ],
   "source": [
    "# Get value by key\n",
    "\n",
    "release_year_dict['The Bodyguard'] "
   ]
  },
  {
   "cell_type": "markdown",
   "id": "24abdef5-4029-4a44-8660-0ea4c7ef9260",
   "metadata": {},
   "source": [
    "<img src=\"https://cf-courses-data.s3.us.cloud-object-storage.appdomain.cloud/IBMDeveloperSkillsNetwork-PY0101EN-SkillsNetwork/labs/Module%202/images/DictsKeyTwo.png\" width=\"500\">\n"
   ]
  },
  {
   "cell_type": "markdown",
   "id": "c550449b-533e-4256-9ef1-66f9bbcb0abf",
   "metadata": {},
   "source": [
    "Now let us retrieve the keys of the dictionary using the method <code>keys()</code>:\n"
   ]
  },
  {
   "cell_type": "code",
   "execution_count": 7,
   "id": "1508c232-9e1a-4640-b0e8-4f88d35bcc9a",
   "metadata": {},
   "outputs": [
    {
     "data": {
      "text/plain": [
       "dict_keys(['Thriller', 'Back in Black', 'The Dark Side of the Moon', 'The Bodyguard', 'Bat Out of Hell', 'Their Greatest Hits (1971-1975)', 'Saturday Night Fever', 'Rumours'])"
      ]
     },
     "execution_count": 7,
     "metadata": {},
     "output_type": "execute_result"
    }
   ],
   "source": [
    "# Get all the keys in dictionary\n",
    "\n",
    "release_year_dict.keys() "
   ]
  },
  {
   "cell_type": "markdown",
   "id": "8fd5a5f6-722a-4f37-ad62-7f23ad5a653f",
   "metadata": {},
   "source": [
    "You can retrieve the values using the method  <code>values()</code>:\n"
   ]
  },
  {
   "cell_type": "code",
   "execution_count": 8,
   "id": "c7b9d66d-769b-472c-ab69-b7ffe11387db",
   "metadata": {},
   "outputs": [
    {
     "data": {
      "text/plain": [
       "dict_values(['1982', '1980', '1973', '1992', '1977', '1976', '1977', '1977'])"
      ]
     },
     "execution_count": 8,
     "metadata": {},
     "output_type": "execute_result"
    }
   ],
   "source": [
    "# Get all the values in dictionary\n",
    "\n",
    "release_year_dict.values() "
   ]
  },
  {
   "cell_type": "markdown",
   "id": "588e3cc7-d8e7-4080-9fa2-3063e04e662e",
   "metadata": {},
   "source": [
    "We can add an entry:\n"
   ]
  },
  {
   "cell_type": "code",
   "execution_count": 9,
   "id": "d6d74b7f-926b-4cdd-ac7b-ba8a87bae526",
   "metadata": {},
   "outputs": [
    {
     "data": {
      "text/plain": [
       "{'Thriller': '1982',\n",
       " 'Back in Black': '1980',\n",
       " 'The Dark Side of the Moon': '1973',\n",
       " 'The Bodyguard': '1992',\n",
       " 'Bat Out of Hell': '1977',\n",
       " 'Their Greatest Hits (1971-1975)': '1976',\n",
       " 'Saturday Night Fever': '1977',\n",
       " 'Rumours': '1977',\n",
       " 'Graduation': '2007'}"
      ]
     },
     "execution_count": 9,
     "metadata": {},
     "output_type": "execute_result"
    }
   ],
   "source": [
    "# Append value with key into dictionary\n",
    "\n",
    "release_year_dict['Graduation'] = '2007'\n",
    "release_year_dict"
   ]
  },
  {
   "cell_type": "markdown",
   "id": "9901296d-3d0c-4973-abed-2e4fab97bf01",
   "metadata": {},
   "source": [
    "We can delete an entry:\n"
   ]
  },
  {
   "cell_type": "code",
   "execution_count": 10,
   "id": "8a0dd999-27dc-4e3d-9863-a3c03c553014",
   "metadata": {},
   "outputs": [
    {
     "data": {
      "text/plain": [
       "{'Back in Black': '1980',\n",
       " 'The Dark Side of the Moon': '1973',\n",
       " 'The Bodyguard': '1992',\n",
       " 'Bat Out of Hell': '1977',\n",
       " 'Their Greatest Hits (1971-1975)': '1976',\n",
       " 'Saturday Night Fever': '1977',\n",
       " 'Rumours': '1977'}"
      ]
     },
     "execution_count": 10,
     "metadata": {},
     "output_type": "execute_result"
    }
   ],
   "source": [
    "# Delete entries by key\n",
    "\n",
    "del(release_year_dict['Thriller'])\n",
    "del(release_year_dict['Graduation'])\n",
    "release_year_dict"
   ]
  },
  {
   "cell_type": "markdown",
   "id": "84ebbc66-58c4-43eb-a860-d165df2236a1",
   "metadata": {},
   "source": [
    "We can verify if an element is in the dictionary:\n"
   ]
  },
  {
   "cell_type": "code",
   "execution_count": 11,
   "id": "9187d843-22c9-43fb-9ba8-e7fc1502f758",
   "metadata": {},
   "outputs": [
    {
     "data": {
      "text/plain": [
       "True"
      ]
     },
     "execution_count": 11,
     "metadata": {},
     "output_type": "execute_result"
    }
   ],
   "source": [
    "# Verify the key is in the dictionary\n",
    "\n",
    "'The Bodyguard' in release_year_dict"
   ]
  },
  {
   "cell_type": "markdown",
   "id": "2a45c925-ed72-4717-a779-7f12d2ca2ce6",
   "metadata": {},
   "source": [
    "<hr>\n"
   ]
  },
  {
   "cell_type": "markdown",
   "id": "efda9056-10c2-4ea3-8b72-e97f54eec52b",
   "metadata": {},
   "source": [
    "<a id=\"quiz\"></a>\n",
    "## Quiz on Dictionaries\n"
   ]
  },
  {
   "cell_type": "markdown",
   "id": "653e42e2-63aa-4617-b211-e7b349813e7e",
   "metadata": {},
   "source": [
    "<b>You will need this dictionary for the next two questions:</b>\n"
   ]
  },
  {
   "cell_type": "code",
   "execution_count": 12,
   "id": "0d4f46cf-7bf8-4724-a5b6-240bdc570cd3",
   "metadata": {},
   "outputs": [
    {
     "data": {
      "text/plain": [
       "{'The Bodyguard': '1992', 'Saturday Night Fever': '1977'}"
      ]
     },
     "execution_count": 12,
     "metadata": {},
     "output_type": "execute_result"
    }
   ],
   "source": [
    "# Question sample dictionary\n",
    "\n",
    "soundtrack_dic = {\"The Bodyguard\":\"1992\", \"Saturday Night Fever\":\"1977\"}\n",
    "soundtrack_dic "
   ]
  },
  {
   "cell_type": "markdown",
   "id": "ee8ecebe-140d-4727-8019-afe639b5971d",
   "metadata": {},
   "source": [
    "a) In the dictionary <code>soundtrack_dic</code> what are the keys ?\n"
   ]
  },
  {
   "cell_type": "code",
   "execution_count": 13,
   "id": "6f02cff7-dbaa-4cc5-aa95-c9fabea26bfe",
   "metadata": {},
   "outputs": [
    {
     "data": {
      "text/plain": [
       "dict_keys(['The Bodyguard', 'Saturday Night Fever'])"
      ]
     },
     "execution_count": 13,
     "metadata": {},
     "output_type": "execute_result"
    }
   ],
   "source": [
    "# Write your code below and press Shift+Enter to execute\n",
    "soundtrack_dic.keys()"
   ]
  },
  {
   "cell_type": "markdown",
   "id": "ff72a5e9-61b9-466e-9cf4-c3248875c5c3",
   "metadata": {},
   "source": [
    "<details><summary>Click here for the solution</summary>\n",
    "\n",
    "```python\n",
    "soundtrack_dic.keys() # The Keys \"The Bodyguard\" and \"Saturday Night Fever\" \n",
    "\n",
    "```\n",
    "\n",
    "</details>\n"
   ]
  },
  {
   "cell_type": "markdown",
   "id": "0d2afcda-6721-4484-a6e1-8ba36ba9ec16",
   "metadata": {},
   "source": [
    "b) In the dictionary <code>soundtrack_dic</code> what are the values ?\n"
   ]
  },
  {
   "cell_type": "code",
   "execution_count": 14,
   "id": "3efce477-d681-499b-a124-3b841e3dbc76",
   "metadata": {},
   "outputs": [
    {
     "data": {
      "text/plain": [
       "dict_values(['1992', '1977'])"
      ]
     },
     "execution_count": 14,
     "metadata": {},
     "output_type": "execute_result"
    }
   ],
   "source": [
    "# Write your code below and press Shift+Enter to execute\n",
    "soundtrack_dic.values()"
   ]
  },
  {
   "cell_type": "markdown",
   "id": "905a1c88-7377-482f-9c43-80b99cb5119d",
   "metadata": {},
   "source": [
    "<details><summary>Click here for the solution</summary>\n",
    "\n",
    "```python\n",
    "soundtrack_dic.values() # The values are \"1992\" and \"1977\"\n",
    "\n",
    "```\n",
    "\n",
    "</details>\n"
   ]
  },
  {
   "cell_type": "markdown",
   "id": "faaad835-5234-4c78-8332-fcf753bf3904",
   "metadata": {},
   "source": [
    "<hr>\n"
   ]
  },
  {
   "cell_type": "markdown",
   "id": "bb737b3e-e201-447f-896c-b254176a9e1d",
   "metadata": {},
   "source": [
    "<b>You will need this dictionary for the following questions:</b>\n"
   ]
  },
  {
   "cell_type": "markdown",
   "id": "765069b6-6675-4107-a997-42b45758797f",
   "metadata": {},
   "source": [
    "The Albums <b>Back in Black</b>, <b>The Bodyguard</b> and <b>Thriller</b> have the following music recording sales in millions 50, 50 and 65 respectively:\n"
   ]
  },
  {
   "cell_type": "markdown",
   "id": "c12dc575-7621-4ee4-bc35-b8c435c2ed6d",
   "metadata": {},
   "source": [
    "a) Create a dictionary <code>album_sales_dict</code> where the keys are the album name and the sales in millions are the values.\n"
   ]
  },
  {
   "cell_type": "code",
   "execution_count": 16,
   "id": "786c2d16-71d9-4376-accf-6044ae67dc70",
   "metadata": {},
   "outputs": [],
   "source": [
    "# Write your code below and press Shift+Enter to execute\n",
    "album_sales_dict = {\"The Bodyguard\":50, \"Black in Black\":50, \"Thriller\":65}"
   ]
  },
  {
   "cell_type": "markdown",
   "id": "93bc15cb-8f27-410c-8eb6-e9a939a2e739",
   "metadata": {},
   "source": [
    "<details><summary>Click here for the solution</summary>\n",
    "\n",
    "```python\n",
    "album_sales_dict = {\"The Bodyguard\":50, \"Back in Black\":50, \"Thriller\":65}\n",
    "\n",
    "```\n",
    "\n",
    "</details>\n"
   ]
  },
  {
   "cell_type": "markdown",
   "id": "8c8243a1-49cd-4c19-8d83-5edba1a18b75",
   "metadata": {},
   "source": [
    "b) Use the dictionary to find the total sales of <b>Thriller</b>:\n"
   ]
  },
  {
   "cell_type": "code",
   "execution_count": 20,
   "id": "c5da7ff7-b048-466d-a493-2b5a6dc12965",
   "metadata": {},
   "outputs": [
    {
     "data": {
      "text/plain": [
       "65"
      ]
     },
     "execution_count": 20,
     "metadata": {},
     "output_type": "execute_result"
    }
   ],
   "source": [
    "# Write your code below and press Shift+Enter to execute\n",
    "album_sales_dict[\"Thriller\"]"
   ]
  },
  {
   "cell_type": "markdown",
   "id": "5b1ba2b7-84dd-4ec2-8257-050f7a165999",
   "metadata": {},
   "source": [
    "<details><summary>Click here for the solution</summary>\n",
    "\n",
    "```python\n",
    "album_sales_dict[\"Thriller\"]\n",
    "\n",
    "```\n",
    "\n",
    "</details>\n"
   ]
  },
  {
   "cell_type": "markdown",
   "id": "0440f801-aa84-4dd1-a517-c432c5d4547a",
   "metadata": {},
   "source": [
    "c) Find the names of the albums from the dictionary using the method <code>keys()</code>:\n"
   ]
  },
  {
   "cell_type": "code",
   "execution_count": 21,
   "id": "14863402-47e3-4d89-a995-1175d1a85cf7",
   "metadata": {},
   "outputs": [
    {
     "data": {
      "text/plain": [
       "dict_keys(['The Bodyguard', 'Black in Black', 'Thriller'])"
      ]
     },
     "execution_count": 21,
     "metadata": {},
     "output_type": "execute_result"
    }
   ],
   "source": [
    "# Write your code below and press Shift+Enter to execute\n",
    "album_sales_dict.keys()"
   ]
  },
  {
   "cell_type": "markdown",
   "id": "0a711458-8d74-4f9a-a813-ee81d43b016f",
   "metadata": {},
   "source": [
    "<details><summary>Click here for the solution</summary>\n",
    "\n",
    "```python\n",
    "album_sales_dict.keys()\n",
    "\n",
    "```\n",
    "\n",
    "</details>\n"
   ]
  },
  {
   "cell_type": "markdown",
   "id": "7c5cda3c-bfe8-434a-bc4b-ad1281c0d9f0",
   "metadata": {},
   "source": [
    "d) Find the values of the recording sales from the dictionary using the method <code>values</code>:\n"
   ]
  },
  {
   "cell_type": "code",
   "execution_count": 22,
   "id": "5a672dbb-1833-47ae-9a2c-02e6281c4e00",
   "metadata": {},
   "outputs": [
    {
     "data": {
      "text/plain": [
       "dict_values([50, 50, 65])"
      ]
     },
     "execution_count": 22,
     "metadata": {},
     "output_type": "execute_result"
    }
   ],
   "source": [
    "# Write your code below and press Shift+Enter to execute\n",
    "album_sales_dict.values()"
   ]
  },
  {
   "cell_type": "markdown",
   "id": "7bdfec37-cc5b-4c69-b8af-19874ae701e6",
   "metadata": {},
   "source": [
    "<details><summary>Click here for the solution</summary>\n",
    "\n",
    "```python\n",
    "album_sales_dict.values()\n",
    "\n",
    "```\n",
    "\n",
    "</details>\n"
   ]
  },
  {
   "cell_type": "markdown",
   "id": "d5cd50e9-2f5c-4368-abb5-85fcbc0cd2ef",
   "metadata": {},
   "source": [
    "<a id=\"Scenario\"></a>\n",
    "## Scenario:Inventory Store\n",
    "    \n"
   ]
  },
  {
   "cell_type": "markdown",
   "id": "da915a05-6686-4d2e-84e1-53c62d06733c",
   "metadata": {},
   "source": [
    "The inventory store scenario project utilizes a dictionary-based approach to develop a robust system for managing and tracking inventory in a retail store.\n",
    "<br>\n",
    "**Note:- You will be working with two product details.**\n"
   ]
  },
  {
   "cell_type": "markdown",
   "id": "7d1955a1-122c-4048-a738-2946eddd364b",
   "metadata": {},
   "source": [
    "## Task-1 Create an empty dictionary \n"
   ]
  },
  {
   "cell_type": "markdown",
   "id": "0afed64e-a928-4cbc-896b-e76f80500352",
   "metadata": {},
   "source": [
    "\n",
    "First you need to create an empty dictionary, where you will be storing the product details.\n"
   ]
  },
  {
   "cell_type": "code",
   "execution_count": 23,
   "id": "6a482ebb-d7a4-4fc4-afaf-d2b8ecf9f2bb",
   "metadata": {},
   "outputs": [],
   "source": [
    "#Type your code here\n",
    "inventory = {}"
   ]
  },
  {
   "cell_type": "markdown",
   "id": "8f0b8469-8a9d-4bf8-b96d-f59c7a54b5f1",
   "metadata": {},
   "source": [
    "<details> <summary>Click here for the solution</summary>\n",
    "\n",
    "```python\n",
    "\n",
    "inventory ={}\n",
    "\n",
    "```\n",
    "\n",
    "</details>\n"
   ]
  },
  {
   "cell_type": "markdown",
   "id": "90943cd5-d29a-4c53-922a-5854987317c8",
   "metadata": {},
   "source": [
    "## Task-2 Store the first product details in variable\n",
    "* Product Name= Mobile phone\n",
    "* Product Quantity= 5\n",
    "* Product price= 20000\n",
    "* Product Release Year= 2020\n"
   ]
  },
  {
   "cell_type": "code",
   "execution_count": 28,
   "id": "59d3c9ad-4d13-4c3e-b5e0-46c9472a0023",
   "metadata": {},
   "outputs": [],
   "source": [
    "#type your code here\n",
    "ProductNo1 = \"Mobile Phone\"\n",
    "ProductNo1_quantity = 5\n",
    "ProductNo1_price = 20000\n",
    "ProductNo1_releaseYear= 2020"
   ]
  },
  {
   "cell_type": "markdown",
   "id": "c44d60f4-0d3c-44fa-af98-599476baac15",
   "metadata": {},
   "source": [
    "<details> <summary>Click here for the solution</summary>\n",
    "\n",
    "```python\n",
    "ProductNo1 = \"Mobile Phone\"\n",
    "ProductNo1_quantity = 5\n",
    "ProductNo1_price = 20000\n",
    "ProductNo1_releaseYear= 2020\n",
    "```\n",
    "\n",
    "</details>\n"
   ]
  },
  {
   "cell_type": "markdown",
   "id": "46a8aaad-53c4-4ce4-b029-64003ca05e54",
   "metadata": {},
   "source": [
    "## Task-3 Add the details in inventory\n"
   ]
  },
  {
   "cell_type": "code",
   "execution_count": 29,
   "id": "a0bb5069-99da-4ebb-bb43-64a3f6fa71e1",
   "metadata": {},
   "outputs": [],
   "source": [
    "#Type your code here\n",
    "inventory[\"ProductNo1\"]= ProductNo1\n",
    "inventory[\"ProductNo1_quantity\"]= ProductNo1_quantity\n",
    "inventory[\"ProductNo1_price\"]= ProductNo1_price\n",
    "inventory[\"ProductNo1_releaseYear\"]=ProductNo1_releaseYear"
   ]
  },
  {
   "cell_type": "markdown",
   "id": "ba8aa720-54c6-4426-917f-c2b34b461c06",
   "metadata": {},
   "source": [
    "<details> <summary>Click here for the solution</summary>\n",
    "\n",
    "```python\n",
    "\n",
    "inventory[\"ProductNo1\"]= ProductNo1\n",
    "inventory[\"ProductNo1_quantity\"]= ProductNo1_quantity\n",
    "inventory[\"ProductNo1_price\"]= ProductNo1_price\n",
    "inventory[\"ProductNo1_releaseYear\"]=ProductNo1_releaseYear\n",
    "\n",
    "```\n",
    "\n",
    "</details>\n"
   ]
  },
  {
   "cell_type": "markdown",
   "id": "76180d87-1e3a-4da8-8d65-a1073779295b",
   "metadata": {},
   "source": [
    "## Task-4 Store the second product details in a variable.\n",
    "* Product Name= \"Laptop\"\n",
    "* Product Quantity= 10\n",
    "* Product price = 50000\n",
    "* Product Release Year= 2023\n"
   ]
  },
  {
   "cell_type": "code",
   "execution_count": 30,
   "id": "38df239f-a7fc-47e7-8e80-150cd47f9aeb",
   "metadata": {},
   "outputs": [],
   "source": [
    "#type your code here\n",
    "ProductNo2 = \"Laptop\"\n",
    "ProductNo2_quantity = 10\n",
    "ProductNo2_price = 50000\n",
    "ProductNo2_releaseYear= 2023"
   ]
  },
  {
   "cell_type": "markdown",
   "id": "4e1cea24-20f2-4db0-9127-2cbe16365bcd",
   "metadata": {},
   "source": [
    "<details> <summary>Click here for the solution</summary>\n",
    "\n",
    "```python\n",
    "\n",
    "ProductNo2 = \"Laptop\"\n",
    "ProductNo2_quantity = 10\n",
    "ProductNo2_price = 50000\n",
    "ProductNo2_releaseYear= 2023\n",
    "\n",
    "```\n",
    "\n",
    "</details>\n"
   ]
  },
  {
   "cell_type": "markdown",
   "id": "b8324671-2272-495b-93db-b5a86d840fed",
   "metadata": {},
   "source": [
    "## Task-5 Add the item detail into the inventory.\n"
   ]
  },
  {
   "cell_type": "code",
   "execution_count": 31,
   "id": "d0703f65-833a-4ea5-8cfe-29b7ffc0068c",
   "metadata": {},
   "outputs": [],
   "source": [
    "#type your code here\n",
    "inventory[\"ProductNo2\"]= ProductNo2\n",
    "inventory[\"ProductNo2_quantity\"]= ProductNo2_quantity\n",
    "inventory[\"ProductNo2_price\"]= ProductNo2_price\n",
    "inventory[\"ProductNo2_releaseYear\"]=ProductNo2_releaseYear"
   ]
  },
  {
   "cell_type": "markdown",
   "id": "aa260faf-7a01-4b6c-848c-4bb95bb2a254",
   "metadata": {},
   "source": [
    "<details> <summary>Click here for the solution</summary>\n",
    "\n",
    "```python\n",
    "\n",
    "inventory[\"ProductNo2\"]= ProductNo2\n",
    "inventory[\"ProductNo2_quantity\"]= ProductNo2_quantity\n",
    "inventory[\"ProductNo2_price\"]= ProductNo2_price\n",
    "inventory[\"ProductNo2_releaseYear\"]=ProductNo2_releaseYear\n",
    "\n",
    "```\n",
    "\n",
    "</details>\n"
   ]
  },
  {
   "cell_type": "markdown",
   "id": "ee252624-6e88-4973-baf5-08811e3f4389",
   "metadata": {},
   "source": [
    "## Task-6 Display the Products present in the inventory\n"
   ]
  },
  {
   "cell_type": "markdown",
   "id": "e5a395da-de7c-4840-a591-40b9c211346a",
   "metadata": {},
   "source": [
    "Use print statement for displaying the products\n"
   ]
  },
  {
   "cell_type": "code",
   "execution_count": 32,
   "id": "ee0545a8-e74d-47f0-b600-9ae6caf7c040",
   "metadata": {},
   "outputs": [
    {
     "name": "stdout",
     "output_type": "stream",
     "text": [
      "{'ProductNo1': 'Mobile Phone', 'ProductNo1_quantity': 5, 'ProductNo1_price': 20000, 'ProductNo1_releaseYear': 2020, 'ProductNo2': 'Laptop', 'ProductNo2_quantity': 10, 'ProductNo2_price': 50000, 'ProductNo2_releaseYear': 2023}\n"
     ]
    }
   ],
   "source": [
    "#type your code here\n",
    "print(inventory)"
   ]
  },
  {
   "cell_type": "markdown",
   "id": "07fe0a18-f98b-419e-bcf8-852867a3c39e",
   "metadata": {},
   "source": [
    "<details> <summary>Click here for the solution</summary>\n",
    "\n",
    "```python\n",
    "\n",
    "print(inventory)\n",
    "\n",
    "```\n",
    "\n",
    "</details>\n"
   ]
  },
  {
   "cell_type": "markdown",
   "id": "48ceb212-2c45-4959-ba6d-fd60e839823c",
   "metadata": {},
   "source": [
    "## Task-7 Check if `ProductNo1_releaseYear` and `ProductNo2_releaseYear` is in the inventory\n"
   ]
  },
  {
   "cell_type": "code",
   "execution_count": 34,
   "id": "3eabbe18-cd9c-41da-a3a3-d222b58baaed",
   "metadata": {},
   "outputs": [
    {
     "name": "stdout",
     "output_type": "stream",
     "text": [
      "[2020] [2023]\n"
     ]
    }
   ],
   "source": [
    "#Type your code here\n",
    "print([ProductNo1_releaseYear],[ProductNo2_releaseYear])"
   ]
  },
  {
   "cell_type": "markdown",
   "id": "524c3ea0-2f74-46b7-8aad-80634ca242c3",
   "metadata": {},
   "source": [
    "<details> <summary>Click here for the solution</summary>\n",
    "\n",
    "```python\n",
    "\n",
    "\"ProductNo1_releaseYear\" in inventory\n",
    "\"ProductNo2_releaseYear\" in inventory\n",
    "\n",
    "```\n",
    "\n",
    "</details>\n"
   ]
  },
  {
   "cell_type": "markdown",
   "id": "bca3e5f0-e539-471c-b40a-63f11cfda335",
   "metadata": {},
   "source": [
    "**As in inventory `Release year` is not required, let's delete it.**\n"
   ]
  },
  {
   "cell_type": "markdown",
   "id": "0e99fb78-c64e-49ef-a461-434350a58214",
   "metadata": {},
   "source": [
    "## Task-8 Delete release year of both the products from the inventory\n"
   ]
  },
  {
   "cell_type": "code",
   "execution_count": 35,
   "id": "050a523b-39ab-479e-a784-018eca68b936",
   "metadata": {},
   "outputs": [],
   "source": [
    "#Type your code here\n",
    "del(inventory[\"ProductNo1_releaseYear\"])\n",
    "del(inventory[\"ProductNo2_releaseYear\"])"
   ]
  },
  {
   "cell_type": "markdown",
   "id": "951655c8-ca79-4334-a93a-1b95e42d24ee",
   "metadata": {},
   "source": [
    "\n",
    "<details> <summary>Click here for the solution</summary>\n",
    "\n",
    "```python\n",
    "\n",
    "del(inventory[\"ProductNo1_releaseYear\"])\n",
    "del(inventory[\"ProductNo2_releaseYear\"])\n",
    "\n",
    "```\n",
    "\n",
    "</details>\n"
   ]
  },
  {
   "cell_type": "markdown",
   "id": "6d652ec0-69ff-4ed0-8f38-eeff7689347f",
   "metadata": {},
   "source": [
    "<hr>\n",
    "<h2>The last exercise!</h2>\n",
    "<p>Congratulations, you have completed your first lesson and hands-on lab in Python. \n",
    "<hr>\n"
   ]
  },
  {
   "cell_type": "markdown",
   "id": "6d49a5e0-54e5-4719-8db1-786598ea77fa",
   "metadata": {},
   "source": [
    "## Author\n",
    "\n",
    "<a href=\"https://www.linkedin.com/in/joseph-s-50398b136/?utm_medium=Exinfluencer&utm_source=Exinfluencer&utm_content=000026UJ&utm_term=10006555&utm_id=NA-SkillsNetwork-Channel-SkillsNetworkCoursesIBMDeveloperSkillsNetworkPY0101ENSkillsNetwork19487395-2021-01-01\" target=\"_blank\">Joseph Santarcangelo</a>\n",
    "\n",
    "## Other contributors\n",
    "\n",
    "<a href=\"https://www.linkedin.com/in/jiahui-mavis-zhou-a4537814a?utm_medium=Exinfluencer&utm_source=Exinfluencer&utm_content=000026UJ&utm_term=10006555&utm_id=NA-SkillsNetwork-Channel-SkillsNetworkCoursesIBMDeveloperSkillsNetworkPY0101ENSkillsNetwork19487395-2021-01-01\">Mavis Zhou</a>\n",
    "\n",
    "<!--## Change Log--!>\n",
    "\n",
    "<!--| Date (YYYY-MM-DD) | Version | Changed By    | Change Description                                                  |\n",
    "--!>\n",
    "<!--| ----------------- | ------- | ------------- | ------------------------------------------------------------------- |\n",
    "--!>\n",
    "<!--| 2023-05-11        |  2.3    | Akansha yadav | Updated lab with scenario                                           |\n",
    "--!>\n",
    "<!--|  2022-01-10        | 2.2     | Malika Singla | Removed the readme for GitShare                                     |\n",
    "--!>\n",
    "<!--| 2020-09-09        | 2.1     | Malika Singla | Updated the variable soundtrack_dict to soundtrack_dic in Questions |\n",
    "--!>\n",
    "<!--| 2020-08-26        | 2.0     | Lavanya       | Moved lab to course repo in GitLab                                  |\n",
    "--!>\n",
    "<!--|                   |         |               |                                                                     |\n",
    "--!>\n",
    "<!--|                   |         |               |                                                                     |\n",
    "--!>\n",
    "\n",
    "## <h3 align=\"center\"> © IBM Corporation 2020. All rights reserved. <h3/>\n"
   ]
  },
  {
   "cell_type": "code",
   "execution_count": null,
   "id": "e4fd2ef3-e745-4190-8cb0-601936331a99",
   "metadata": {},
   "outputs": [],
   "source": []
  }
 ],
 "metadata": {
  "kernelspec": {
   "display_name": "Python 3",
   "language": "python",
   "name": "python3"
  },
  "language_info": {
   "codemirror_mode": {
    "name": "ipython",
    "version": 3
   },
   "file_extension": ".py",
   "mimetype": "text/x-python",
   "name": "python",
   "nbconvert_exporter": "python",
   "pygments_lexer": "ipython3",
   "version": "3.12.4"
  },
  "prev_pub_hash": "8874e80f63b296a1988511a586322b3423251313c5ffc0d59853e64de03ba625"
 },
 "nbformat": 4,
 "nbformat_minor": 4
}
