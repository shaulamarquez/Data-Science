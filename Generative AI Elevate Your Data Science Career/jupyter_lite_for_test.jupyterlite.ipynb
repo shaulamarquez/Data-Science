{
  "cells": [
    {
      "cell_type": "markdown",
      "metadata": {},
      "source": [
        "<p style=\"text-align:center\">\n",
        "    <a href=\"https://skills.network\" target=\"_blank\">\n",
        "    <img src=\"https://cf-courses-data.s3.us.cloud-object-storage.appdomain.cloud/assets/logos/SN_web_lightmode.png\" width=\"300\" alt=\"Skills Network Logo\">\n",
        "    </a>\n",
        "</p>\n"
      ]
    },
    {
      "cell_type": "markdown",
      "metadata": {},
      "source": [
        "# Test Environment for Generative AI classroom labs\n",
        "\n",
        "This lab provides a test environment for the codes generated using the Generative AI classroom.\n",
        "\n",
        "Follow the instructions below to set up this environment for further use.\n"
      ]
    },
    {
      "cell_type": "markdown",
      "metadata": {},
      "source": [
        "# Setup\n"
      ]
    },
    {
      "cell_type": "markdown",
      "metadata": {},
      "source": [
        "### Install required libraries\n",
        "\n",
        "In case of a requirement of installing certain python libraries for use in your task, you may do so as shown below.\n"
      ]
    },
    {
      "cell_type": "code",
      "execution_count": 1,
      "metadata": {},
      "outputs": [
        {
          "name": "stdout",
          "output_type": "stream",
          "text": [
            "Requirement already satisfied: seaborn in c:\\users\\default.asus\\appdata\\local\\programs\\python\\python312\\lib\\site-packages (0.13.2)\n",
            "Requirement already satisfied: numpy!=1.24.0,>=1.20 in c:\\users\\default.asus\\appdata\\local\\programs\\python\\python312\\lib\\site-packages (from seaborn) (1.26.4)\n",
            "Requirement already satisfied: pandas>=1.2 in c:\\users\\default.asus\\appdata\\local\\programs\\python\\python312\\lib\\site-packages (from seaborn) (2.2.2)\n",
            "Requirement already satisfied: matplotlib!=3.6.1,>=3.4 in c:\\users\\default.asus\\appdata\\local\\programs\\python\\python312\\lib\\site-packages (from seaborn) (3.9.0)\n",
            "Requirement already satisfied: contourpy>=1.0.1 in c:\\users\\default.asus\\appdata\\local\\programs\\python\\python312\\lib\\site-packages (from matplotlib!=3.6.1,>=3.4->seaborn) (1.2.1)\n",
            "Requirement already satisfied: cycler>=0.10 in c:\\users\\default.asus\\appdata\\local\\programs\\python\\python312\\lib\\site-packages (from matplotlib!=3.6.1,>=3.4->seaborn) (0.12.1)\n",
            "Requirement already satisfied: fonttools>=4.22.0 in c:\\users\\default.asus\\appdata\\local\\programs\\python\\python312\\lib\\site-packages (from matplotlib!=3.6.1,>=3.4->seaborn) (4.53.0)\n",
            "Requirement already satisfied: kiwisolver>=1.3.1 in c:\\users\\default.asus\\appdata\\local\\programs\\python\\python312\\lib\\site-packages (from matplotlib!=3.6.1,>=3.4->seaborn) (1.4.5)\n",
            "Requirement already satisfied: packaging>=20.0 in c:\\users\\default.asus\\appdata\\local\\programs\\python\\python312\\lib\\site-packages (from matplotlib!=3.6.1,>=3.4->seaborn) (24.1)\n",
            "Requirement already satisfied: pillow>=8 in c:\\users\\default.asus\\appdata\\local\\programs\\python\\python312\\lib\\site-packages (from matplotlib!=3.6.1,>=3.4->seaborn) (10.4.0)\n",
            "Requirement already satisfied: pyparsing>=2.3.1 in c:\\users\\default.asus\\appdata\\local\\programs\\python\\python312\\lib\\site-packages (from matplotlib!=3.6.1,>=3.4->seaborn) (3.1.2)\n",
            "Requirement already satisfied: python-dateutil>=2.7 in c:\\users\\default.asus\\appdata\\local\\programs\\python\\python312\\lib\\site-packages (from matplotlib!=3.6.1,>=3.4->seaborn) (2.9.0.post0)\n",
            "Requirement already satisfied: pytz>=2020.1 in c:\\users\\default.asus\\appdata\\local\\programs\\python\\python312\\lib\\site-packages (from pandas>=1.2->seaborn) (2024.1)\n",
            "Requirement already satisfied: tzdata>=2022.7 in c:\\users\\default.asus\\appdata\\local\\programs\\python\\python312\\lib\\site-packages (from pandas>=1.2->seaborn) (2024.1)\n",
            "Requirement already satisfied: six>=1.5 in c:\\users\\default.asus\\appdata\\local\\programs\\python\\python312\\lib\\site-packages (from python-dateutil>=2.7->matplotlib!=3.6.1,>=3.4->seaborn) (1.16.0)\n",
            "Note: you may need to restart the kernel to use updated packages.\n"
          ]
        }
      ],
      "source": [
        "%pip install seaborn"
      ]
    },
    {
      "cell_type": "markdown",
      "metadata": {},
      "source": [
        "### Dataset URL from the GenAI lab\n",
        "Use the URL provided in the GenAI lab in the cell below. \n"
      ]
    },
    {
      "cell_type": "code",
      "execution_count": 2,
      "metadata": {},
      "outputs": [],
      "source": [
        "URL = \"https://cf-courses-data.s3.us.cloud-object-storage.appdomain.cloud/IBMDeveloperSkillsNetwork-DA0101EN-Coursera/laptop_pricing_dataset_mod1.csv\""
      ]
    },
    {
      "cell_type": "markdown",
      "metadata": {},
      "source": [
        "### Downloading the dataset\n",
        "\n",
        "Execute the following code to download the dataset in to the interface.\n",
        "\n",
        "> Please note that this step is essential in JupyterLite. If you are using a downloaded version of this notebook and running it on JupyterLabs, then you can skip this step and directly use the URL in pandas.read_csv() function to read the dataset as a dataframe\n"
      ]
    },
    {
      "cell_type": "code",
      "execution_count": 3,
      "metadata": {},
      "outputs": [
        {
          "data": {
            "text/html": [
              "<div>\n",
              "<style scoped>\n",
              "    .dataframe tbody tr th:only-of-type {\n",
              "        vertical-align: middle;\n",
              "    }\n",
              "\n",
              "    .dataframe tbody tr th {\n",
              "        vertical-align: top;\n",
              "    }\n",
              "\n",
              "    .dataframe thead th {\n",
              "        text-align: right;\n",
              "    }\n",
              "</style>\n",
              "<table border=\"1\" class=\"dataframe\">\n",
              "  <thead>\n",
              "    <tr style=\"text-align: right;\">\n",
              "      <th></th>\n",
              "      <th>Unnamed: 0</th>\n",
              "      <th>Manufacturer</th>\n",
              "      <th>Category</th>\n",
              "      <th>Screen</th>\n",
              "      <th>GPU</th>\n",
              "      <th>OS</th>\n",
              "      <th>CPU_core</th>\n",
              "      <th>Screen_Size_cm</th>\n",
              "      <th>CPU_frequency</th>\n",
              "      <th>RAM_GB</th>\n",
              "      <th>Storage_GB_SSD</th>\n",
              "      <th>Weight_kg</th>\n",
              "      <th>Price</th>\n",
              "    </tr>\n",
              "  </thead>\n",
              "  <tbody>\n",
              "    <tr>\n",
              "      <th>0</th>\n",
              "      <td>0</td>\n",
              "      <td>Acer</td>\n",
              "      <td>4</td>\n",
              "      <td>IPS Panel</td>\n",
              "      <td>2</td>\n",
              "      <td>1</td>\n",
              "      <td>5</td>\n",
              "      <td>35.560</td>\n",
              "      <td>1.6</td>\n",
              "      <td>8</td>\n",
              "      <td>256</td>\n",
              "      <td>1.60</td>\n",
              "      <td>978</td>\n",
              "    </tr>\n",
              "    <tr>\n",
              "      <th>1</th>\n",
              "      <td>1</td>\n",
              "      <td>Dell</td>\n",
              "      <td>3</td>\n",
              "      <td>Full HD</td>\n",
              "      <td>1</td>\n",
              "      <td>1</td>\n",
              "      <td>3</td>\n",
              "      <td>39.624</td>\n",
              "      <td>2.0</td>\n",
              "      <td>4</td>\n",
              "      <td>256</td>\n",
              "      <td>2.20</td>\n",
              "      <td>634</td>\n",
              "    </tr>\n",
              "    <tr>\n",
              "      <th>2</th>\n",
              "      <td>2</td>\n",
              "      <td>Dell</td>\n",
              "      <td>3</td>\n",
              "      <td>Full HD</td>\n",
              "      <td>1</td>\n",
              "      <td>1</td>\n",
              "      <td>7</td>\n",
              "      <td>39.624</td>\n",
              "      <td>2.7</td>\n",
              "      <td>8</td>\n",
              "      <td>256</td>\n",
              "      <td>2.20</td>\n",
              "      <td>946</td>\n",
              "    </tr>\n",
              "    <tr>\n",
              "      <th>3</th>\n",
              "      <td>3</td>\n",
              "      <td>Dell</td>\n",
              "      <td>4</td>\n",
              "      <td>IPS Panel</td>\n",
              "      <td>2</td>\n",
              "      <td>1</td>\n",
              "      <td>5</td>\n",
              "      <td>33.782</td>\n",
              "      <td>1.6</td>\n",
              "      <td>8</td>\n",
              "      <td>128</td>\n",
              "      <td>1.22</td>\n",
              "      <td>1244</td>\n",
              "    </tr>\n",
              "    <tr>\n",
              "      <th>4</th>\n",
              "      <td>4</td>\n",
              "      <td>HP</td>\n",
              "      <td>4</td>\n",
              "      <td>Full HD</td>\n",
              "      <td>2</td>\n",
              "      <td>1</td>\n",
              "      <td>7</td>\n",
              "      <td>39.624</td>\n",
              "      <td>1.8</td>\n",
              "      <td>8</td>\n",
              "      <td>256</td>\n",
              "      <td>1.91</td>\n",
              "      <td>837</td>\n",
              "    </tr>\n",
              "  </tbody>\n",
              "</table>\n",
              "</div>"
            ],
            "text/plain": [
              "   Unnamed: 0 Manufacturer  Category     Screen  GPU  OS  CPU_core  \\\n",
              "0           0         Acer         4  IPS Panel    2   1         5   \n",
              "1           1         Dell         3    Full HD    1   1         3   \n",
              "2           2         Dell         3    Full HD    1   1         7   \n",
              "3           3         Dell         4  IPS Panel    2   1         5   \n",
              "4           4           HP         4    Full HD    2   1         7   \n",
              "\n",
              "   Screen_Size_cm  CPU_frequency  RAM_GB  Storage_GB_SSD  Weight_kg  Price  \n",
              "0          35.560            1.6       8             256       1.60    978  \n",
              "1          39.624            2.0       4             256       2.20    634  \n",
              "2          39.624            2.7       8             256       2.20    946  \n",
              "3          33.782            1.6       8             128       1.22   1244  \n",
              "4          39.624            1.8       8             256       1.91    837  "
            ]
          },
          "execution_count": 3,
          "metadata": {},
          "output_type": "execute_result"
        }
      ],
      "source": [
        "import pandas as pd\n",
        "\n",
        "df = pd.read_csv(URL)\n",
        "df.head()"
      ]
    },
    {
      "cell_type": "code",
      "execution_count": 4,
      "metadata": {},
      "outputs": [
        {
          "data": {
            "text/plain": [
              "Index(['Screen_Size_cm', 'Weight_kg'], dtype='object')"
            ]
          },
          "execution_count": 4,
          "metadata": {},
          "output_type": "execute_result"
        }
      ],
      "source": [
        "columns_with_missing_values = df.columns[df.isnull().any()]\n",
        "columns_with_missing_values"
      ]
    },
    {
      "cell_type": "code",
      "execution_count": 5,
      "metadata": {},
      "outputs": [],
      "source": [
        "# Replace missing values with the most frequent value\n",
        "most_frequent_value = df['Screen_Size_cm'].mode()[0]\n",
        "df['Screen_Size_cm'] = df['Screen_Size_cm'].fillna(most_frequent_value)"
      ]
    },
    {
      "cell_type": "code",
      "execution_count": 6,
      "metadata": {},
      "outputs": [],
      "source": [
        "# Replace missing values with the mean value\n",
        "mean_value = df['Weight_kg'].mean()\n",
        "df['Weight_kg'] = df['Weight_kg'].fillna(mean_value)"
      ]
    },
    {
      "cell_type": "code",
      "execution_count": 7,
      "metadata": {},
      "outputs": [],
      "source": [
        "# Change the data type of 'Screen_Size_cm' and 'Weight_kg' to float\n",
        "df['Screen_Size_cm'] = df['Screen_Size_cm'].astype(float)\n",
        "df['Weight_kg'] = df['Weight_kg'].astype(float)"
      ]
    },
    {
      "cell_type": "code",
      "execution_count": 8,
      "metadata": {},
      "outputs": [],
      "source": [
        "# Convert 'Screen_Size_cm' to inches and modify the attribute name\n",
        "df['Screen_Size_inch'] = df['Screen_Size_cm'] * 0.393701\n",
        "df.drop('Screen_Size_cm', axis=1, inplace=True)\n",
        "\n",
        "# Convert 'Weight_kg' to pounds and modify the attribute name\n",
        "df['Weight_lbs'] = df['Weight_kg'] * 2.20462\n",
        "df.drop('Weight_kg', axis=1, inplace=True)\n"
      ]
    },
    {
      "cell_type": "code",
      "execution_count": 9,
      "metadata": {},
      "outputs": [],
      "source": [
        "# Normalize the content under 'CPU_frequncy' with resspect to its maximum value\n",
        "max_value = df['CPU_frequency'].max()\n",
        "df['CPU_frequency'] = df['CPU_frequency'] / max_value"
      ]
    },
    {
      "cell_type": "code",
      "execution_count": 10,
      "metadata": {},
      "outputs": [],
      "source": [
        "# Convert the 'Screen' attrbute into indicator variables\n",
        "df1 = pd.get_dummies(df['Screen'], prefix='Screen')\n",
        "\n",
        "# Append df1 into original data frame df\n",
        "df = pd.concat([df, df1], axis=1)\n",
        "\n",
        "# Drop the 'Screen' attribute from the data frame\n",
        "df.drop('Screen', axis=1, inplace=True)"
      ]
    },
    {
      "cell_type": "code",
      "execution_count": 12,
      "metadata": {},
      "outputs": [
        {
          "data": {
            "text/html": [
              "<div>\n",
              "<style scoped>\n",
              "    .dataframe tbody tr th:only-of-type {\n",
              "        vertical-align: middle;\n",
              "    }\n",
              "\n",
              "    .dataframe tbody tr th {\n",
              "        vertical-align: top;\n",
              "    }\n",
              "\n",
              "    .dataframe thead th {\n",
              "        text-align: right;\n",
              "    }\n",
              "</style>\n",
              "<table border=\"1\" class=\"dataframe\">\n",
              "  <thead>\n",
              "    <tr style=\"text-align: right;\">\n",
              "      <th></th>\n",
              "      <th>Unnamed: 0</th>\n",
              "      <th>Manufacturer</th>\n",
              "      <th>Category</th>\n",
              "      <th>GPU</th>\n",
              "      <th>OS</th>\n",
              "      <th>CPU_core</th>\n",
              "      <th>CPU_frequency</th>\n",
              "      <th>RAM_GB</th>\n",
              "      <th>Storage_GB_SSD</th>\n",
              "      <th>Price</th>\n",
              "      <th>Screen_Size_inch</th>\n",
              "      <th>Weight_lbs</th>\n",
              "      <th>Screen_Full HD</th>\n",
              "      <th>Screen_IPS Panel</th>\n",
              "    </tr>\n",
              "  </thead>\n",
              "  <tbody>\n",
              "    <tr>\n",
              "      <th>0</th>\n",
              "      <td>0</td>\n",
              "      <td>Acer</td>\n",
              "      <td>4</td>\n",
              "      <td>2</td>\n",
              "      <td>1</td>\n",
              "      <td>5</td>\n",
              "      <td>0.551724</td>\n",
              "      <td>8</td>\n",
              "      <td>256</td>\n",
              "      <td>978</td>\n",
              "      <td>14.000008</td>\n",
              "      <td>3.527392</td>\n",
              "      <td>False</td>\n",
              "      <td>True</td>\n",
              "    </tr>\n",
              "    <tr>\n",
              "      <th>1</th>\n",
              "      <td>1</td>\n",
              "      <td>Dell</td>\n",
              "      <td>3</td>\n",
              "      <td>1</td>\n",
              "      <td>1</td>\n",
              "      <td>3</td>\n",
              "      <td>0.689655</td>\n",
              "      <td>4</td>\n",
              "      <td>256</td>\n",
              "      <td>634</td>\n",
              "      <td>15.600008</td>\n",
              "      <td>4.850164</td>\n",
              "      <td>True</td>\n",
              "      <td>False</td>\n",
              "    </tr>\n",
              "    <tr>\n",
              "      <th>2</th>\n",
              "      <td>2</td>\n",
              "      <td>Dell</td>\n",
              "      <td>3</td>\n",
              "      <td>1</td>\n",
              "      <td>1</td>\n",
              "      <td>7</td>\n",
              "      <td>0.931034</td>\n",
              "      <td>8</td>\n",
              "      <td>256</td>\n",
              "      <td>946</td>\n",
              "      <td>15.600008</td>\n",
              "      <td>4.850164</td>\n",
              "      <td>True</td>\n",
              "      <td>False</td>\n",
              "    </tr>\n",
              "    <tr>\n",
              "      <th>3</th>\n",
              "      <td>3</td>\n",
              "      <td>Dell</td>\n",
              "      <td>4</td>\n",
              "      <td>2</td>\n",
              "      <td>1</td>\n",
              "      <td>5</td>\n",
              "      <td>0.551724</td>\n",
              "      <td>8</td>\n",
              "      <td>128</td>\n",
              "      <td>1244</td>\n",
              "      <td>13.300007</td>\n",
              "      <td>2.689636</td>\n",
              "      <td>False</td>\n",
              "      <td>True</td>\n",
              "    </tr>\n",
              "    <tr>\n",
              "      <th>4</th>\n",
              "      <td>4</td>\n",
              "      <td>HP</td>\n",
              "      <td>4</td>\n",
              "      <td>2</td>\n",
              "      <td>1</td>\n",
              "      <td>7</td>\n",
              "      <td>0.620690</td>\n",
              "      <td>8</td>\n",
              "      <td>256</td>\n",
              "      <td>837</td>\n",
              "      <td>15.600008</td>\n",
              "      <td>4.210824</td>\n",
              "      <td>True</td>\n",
              "      <td>False</td>\n",
              "    </tr>\n",
              "  </tbody>\n",
              "</table>\n",
              "</div>"
            ],
            "text/plain": [
              "   Unnamed: 0 Manufacturer  Category  GPU  OS  CPU_core  CPU_frequency  \\\n",
              "0           0         Acer         4    2   1         5       0.551724   \n",
              "1           1         Dell         3    1   1         3       0.689655   \n",
              "2           2         Dell         3    1   1         7       0.931034   \n",
              "3           3         Dell         4    2   1         5       0.551724   \n",
              "4           4           HP         4    2   1         7       0.620690   \n",
              "\n",
              "   RAM_GB  Storage_GB_SSD  Price  Screen_Size_inch  Weight_lbs  \\\n",
              "0       8             256    978         14.000008    3.527392   \n",
              "1       4             256    634         15.600008    4.850164   \n",
              "2       8             256    946         15.600008    4.850164   \n",
              "3       8             128   1244         13.300007    2.689636   \n",
              "4       8             256    837         15.600008    4.210824   \n",
              "\n",
              "   Screen_Full HD  Screen_IPS Panel  \n",
              "0           False              True  \n",
              "1            True             False  \n",
              "2            True             False  \n",
              "3           False              True  \n",
              "4            True             False  "
            ]
          },
          "execution_count": 12,
          "metadata": {},
          "output_type": "execute_result"
        }
      ],
      "source": [
        "df.head()"
      ]
    },
    {
      "cell_type": "markdown",
      "metadata": {},
      "source": [
        "---\n"
      ]
    },
    {
      "cell_type": "code",
      "execution_count": 13,
      "metadata": {},
      "outputs": [],
      "source": [
        "# Convert the 'Price' attribute from USD to Euros\n",
        "df['Price_Euros'] = df['Price'] * 0.92\n",
        "df.drop('Price', axis=1, inplace=True)\n",
        "\n",
        "# Write a Python code that can perform min-max normalization on the 'CPU_frequency' parameter\n",
        "df['CPU_frequency_normalized'] = (df['CPU_frequency'] - df['CPU_frequency'].min()) / (df['CPU_frequency'].max() - df['CPU_frequency'].min())"
      ]
    },
    {
      "cell_type": "code",
      "execution_count": 14,
      "metadata": {},
      "outputs": [
        {
          "data": {
            "text/html": [
              "<div>\n",
              "<style scoped>\n",
              "    .dataframe tbody tr th:only-of-type {\n",
              "        vertical-align: middle;\n",
              "    }\n",
              "\n",
              "    .dataframe tbody tr th {\n",
              "        vertical-align: top;\n",
              "    }\n",
              "\n",
              "    .dataframe thead th {\n",
              "        text-align: right;\n",
              "    }\n",
              "</style>\n",
              "<table border=\"1\" class=\"dataframe\">\n",
              "  <thead>\n",
              "    <tr style=\"text-align: right;\">\n",
              "      <th></th>\n",
              "      <th>Unnamed: 0</th>\n",
              "      <th>Manufacturer</th>\n",
              "      <th>Category</th>\n",
              "      <th>GPU</th>\n",
              "      <th>OS</th>\n",
              "      <th>CPU_core</th>\n",
              "      <th>CPU_frequency</th>\n",
              "      <th>RAM_GB</th>\n",
              "      <th>Storage_GB_SSD</th>\n",
              "      <th>Screen_Size_inch</th>\n",
              "      <th>Weight_lbs</th>\n",
              "      <th>Screen_Full HD</th>\n",
              "      <th>Screen_IPS Panel</th>\n",
              "      <th>Price_Euros</th>\n",
              "      <th>CPU_frequency_normalized</th>\n",
              "    </tr>\n",
              "  </thead>\n",
              "  <tbody>\n",
              "    <tr>\n",
              "      <th>0</th>\n",
              "      <td>0</td>\n",
              "      <td>Acer</td>\n",
              "      <td>4</td>\n",
              "      <td>2</td>\n",
              "      <td>1</td>\n",
              "      <td>5</td>\n",
              "      <td>0.551724</td>\n",
              "      <td>8</td>\n",
              "      <td>256</td>\n",
              "      <td>14.000008</td>\n",
              "      <td>3.527392</td>\n",
              "      <td>False</td>\n",
              "      <td>True</td>\n",
              "      <td>899.76</td>\n",
              "      <td>0.235294</td>\n",
              "    </tr>\n",
              "    <tr>\n",
              "      <th>1</th>\n",
              "      <td>1</td>\n",
              "      <td>Dell</td>\n",
              "      <td>3</td>\n",
              "      <td>1</td>\n",
              "      <td>1</td>\n",
              "      <td>3</td>\n",
              "      <td>0.689655</td>\n",
              "      <td>4</td>\n",
              "      <td>256</td>\n",
              "      <td>15.600008</td>\n",
              "      <td>4.850164</td>\n",
              "      <td>True</td>\n",
              "      <td>False</td>\n",
              "      <td>583.28</td>\n",
              "      <td>0.470588</td>\n",
              "    </tr>\n",
              "    <tr>\n",
              "      <th>2</th>\n",
              "      <td>2</td>\n",
              "      <td>Dell</td>\n",
              "      <td>3</td>\n",
              "      <td>1</td>\n",
              "      <td>1</td>\n",
              "      <td>7</td>\n",
              "      <td>0.931034</td>\n",
              "      <td>8</td>\n",
              "      <td>256</td>\n",
              "      <td>15.600008</td>\n",
              "      <td>4.850164</td>\n",
              "      <td>True</td>\n",
              "      <td>False</td>\n",
              "      <td>870.32</td>\n",
              "      <td>0.882353</td>\n",
              "    </tr>\n",
              "    <tr>\n",
              "      <th>3</th>\n",
              "      <td>3</td>\n",
              "      <td>Dell</td>\n",
              "      <td>4</td>\n",
              "      <td>2</td>\n",
              "      <td>1</td>\n",
              "      <td>5</td>\n",
              "      <td>0.551724</td>\n",
              "      <td>8</td>\n",
              "      <td>128</td>\n",
              "      <td>13.300007</td>\n",
              "      <td>2.689636</td>\n",
              "      <td>False</td>\n",
              "      <td>True</td>\n",
              "      <td>1144.48</td>\n",
              "      <td>0.235294</td>\n",
              "    </tr>\n",
              "    <tr>\n",
              "      <th>4</th>\n",
              "      <td>4</td>\n",
              "      <td>HP</td>\n",
              "      <td>4</td>\n",
              "      <td>2</td>\n",
              "      <td>1</td>\n",
              "      <td>7</td>\n",
              "      <td>0.620690</td>\n",
              "      <td>8</td>\n",
              "      <td>256</td>\n",
              "      <td>15.600008</td>\n",
              "      <td>4.210824</td>\n",
              "      <td>True</td>\n",
              "      <td>False</td>\n",
              "      <td>770.04</td>\n",
              "      <td>0.352941</td>\n",
              "    </tr>\n",
              "  </tbody>\n",
              "</table>\n",
              "</div>"
            ],
            "text/plain": [
              "   Unnamed: 0 Manufacturer  Category  GPU  OS  CPU_core  CPU_frequency  \\\n",
              "0           0         Acer         4    2   1         5       0.551724   \n",
              "1           1         Dell         3    1   1         3       0.689655   \n",
              "2           2         Dell         3    1   1         7       0.931034   \n",
              "3           3         Dell         4    2   1         5       0.551724   \n",
              "4           4           HP         4    2   1         7       0.620690   \n",
              "\n",
              "   RAM_GB  Storage_GB_SSD  Screen_Size_inch  Weight_lbs  Screen_Full HD  \\\n",
              "0       8             256         14.000008    3.527392           False   \n",
              "1       4             256         15.600008    4.850164            True   \n",
              "2       8             256         15.600008    4.850164            True   \n",
              "3       8             128         13.300007    2.689636           False   \n",
              "4       8             256         15.600008    4.210824            True   \n",
              "\n",
              "   Screen_IPS Panel  Price_Euros  CPU_frequency_normalized  \n",
              "0              True       899.76                  0.235294  \n",
              "1             False       583.28                  0.470588  \n",
              "2             False       870.32                  0.882353  \n",
              "3              True      1144.48                  0.235294  \n",
              "4             False       770.04                  0.352941  "
            ]
          },
          "execution_count": 14,
          "metadata": {},
          "output_type": "execute_result"
        }
      ],
      "source": [
        "df.head()"
      ]
    },
    {
      "cell_type": "markdown",
      "metadata": {},
      "source": [
        "# Test Environment\n"
      ]
    },
    {
      "cell_type": "markdown",
      "metadata": {},
      "source": [
        "**Building the prompt: Importing the data set**"
      ]
    },
    {
      "cell_type": "code",
      "execution_count": null,
      "metadata": {},
      "outputs": [],
      "source": [
        "# 1. Write a Python code that can perform the following tasks.\n",
        "# 2. Read the CSV file, located on a given file path, into a Pandas data frame, \n",
        "#    assuming that the first rows of the file are the headers for the data.\n",
        "\n",
        "import pandas as pd\n",
        "\n",
        "# Specify the file path\n",
        "file_path = \"path/to/your/file.csv\"\n",
        "\n",
        "# Read the CSV file into a Pandas data frame\n",
        "df = pd.read_csv(file_path)\n",
        "\n",
        "# Assuming the first rows of the file are the headers, you don't need to specify any additional parameters\n",
        "\n",
        "# Additional details:\n",
        "# - The `pd.read_csv()` function is used to read a CSV file into a Pandas data frame.\n",
        "# - By default, it assumes that the first row of the file contains the headers for the data.\n",
        "# - If your file doesn't have headers, you can specify `header=None` as an additional parameter.\n",
        "# - You can also specify other parameters, such as `sep` to specify the delimiter used in the file.\n",
        "# - Make sure you have the Pandas library installed in your Python environment before running this code."
      ]
    },
    {
      "cell_type": "markdown",
      "metadata": {},
      "source": [
        "**Building the prompt: Handle the missing the data**"
      ]
    },
    {
      "cell_type": "code",
      "execution_count": null,
      "metadata": {},
      "outputs": [],
      "source": [
        "import pandas as pd\n",
        "\n",
        "# Assuming you already have a Pandas data frame named 'df'\n",
        "\n",
        "# Identify columns with missing values\n",
        "columns_with_missing_values = df.columns[df.isnull().any()]\n",
        "\n",
        "# Additional details:\n",
        "# - The `df.isnull()` function returns a Boolean data frame where each cell is True if it contains a missing value (NaN), and False otherwise.\n",
        "# - The `df.columns` attribute returns the column labels of the data frame.\n",
        "# - The `.any()` method returns a Boolean Series indicating whether any value in the given axis (in this case, columns) is True.\n",
        "# - Finally, the `.columns` attribute is used to retrieve the column labels where the condition is True.\n",
        "\n",
        "# You can now use the 'columns_with_missing_values' variable to further analyze or handle the columns with missing values."
      ]
    },
    {
      "cell_type": "code",
      "execution_count": null,
      "metadata": {},
      "outputs": [],
      "source": [
        "# Write a Python code to replace the missing values in a pandas data frame, per the following guidelines.\n",
        "# 1. For a categorical attribute \"Screen_Size_cm\", replace the missing values with the most frequent value in the column.\n",
        "# 2. For a continuous value attribute \"Weight_kg\", replace the missing values with the mean value of the entries in the column.\n",
        "\n",
        "import pandas as pd\n",
        "\n",
        "# Assuming you already have a Pandas data frame named 'df'\n",
        "\n",
        "# Replace missing values in the 'Screen_Size_cm' column with the most frequent value\n",
        "most_frequent_value = df['Screen_Size_cm'].mode()[0]\n",
        "df['Screen_Size_cm'].fillna(most_frequent_value, inplace=True)\n",
        "\n",
        "# Replace missing values in the 'Weight_kg' column with the mean value\n",
        "mean_value = df['Weight_kg'].mean()\n",
        "df['Weight_kg'].fillna(mean_value, inplace=True)\n",
        "\n",
        "# Additional details:\n",
        "# - The `.mode()` method is used to calculate the most frequent value in a column.\n",
        "# - The `[0]` indexing is used to retrieve the most frequent value from the resulting Series.\n",
        "# - The `.fillna()` method is used to replace missing values with a specified value.\n",
        "# - The `inplace=True` parameter is used to modify the original data frame instead of creating a new one.\n",
        "\n",
        "# You can now use the modified 'df' data frame, which has the missing values replaced according to the guidelines."
      ]
    },
    {
      "cell_type": "markdown",
      "metadata": {},
      "source": [
        "**Building the prompt: Modify data type**"
      ]
    },
    {
      "cell_type": "code",
      "execution_count": null,
      "metadata": {},
      "outputs": [],
      "source": [
        "# Write a Python code snippet to change the data type of the attributes \"Screen_Size_cm\" and \"Weight_kg\" of a data frame to float.\n",
        "\n",
        "import pandas as pd\n",
        "\n",
        "# Assuming you already have a Pandas data frame named 'df'\n",
        "\n",
        "# Change the data type of 'Screen_Size_cm' and 'Weight_kg' to float\n",
        "df['Screen_Size_cm'] = df['Screen_Size_cm'].astype(float)\n",
        "df['Weight_kg'] = df['Weight_kg'].astype(float)\n",
        "\n",
        "# Additional details:\n",
        "# - The `.astype()` method is used to change the data type of a column.\n",
        "# - In this case, we're specifying `float` as the desired data type.\n",
        "# - Make sure the columns contain numeric values that can be converted to float.\n",
        "# - If there are any non-numeric values in the columns, the conversion will raise an error.\n",
        "\n",
        "# You can now use the modified 'df' data frame, which has the data types of 'Screen_Size_cm' and 'Weight_kg' changed to float."
      ]
    },
    {
      "cell_type": "markdown",
      "metadata": {},
      "source": [
        "**Building the prompt: Standardization and Normalization**"
      ]
    },
    {
      "cell_type": "code",
      "execution_count": null,
      "metadata": {},
      "outputs": [],
      "source": [
        "#Write a Python code to modify the contents under the following attributes of the data frame as required.\n",
        "#1. Data under 'Screen_Size_cm' is assumed to be in centimeters. Convert this data into inches. Modify the name of the attribute to 'Screen_Size_inch'.\n",
        "#2. Data under 'Weight_kg' is assumed to be in kilograms. Convert this data into pounds. Modify the name of the attribute to 'Weight_pounds'.\n",
        "\n",
        "import pandas as pd\n",
        "\n",
        "# Assuming you already have a Pandas data frame named 'df'\n",
        "\n",
        "# Convert 'Screen_Size_cm' from centimeters to inches and modify the attribute name\n",
        "df['Screen_Size_inch'] = df['Screen_Size_cm'] * 0.393701\n",
        "df.drop('Screen_Size_cm', axis=1, inplace=True)\n",
        "\n",
        "# Convert 'Weight_kg' from kilograms to pounds and modify the attribute name\n",
        "df['Weight_pounds'] = df['Weight_kg'] * 2.20462\n",
        "df.drop('Weight_kg', axis=1, inplace=True)\n",
        "\n",
        "# Additional details:\n",
        "# - The code multiplies the values under 'Screen_Size_cm' by 0.393701 to convert centimeters to inches.\n",
        "# - The resulting values are stored in a new attribute named 'Screen_Size_inch'.\n",
        "# - The original 'Screen_Size_cm' attribute is dropped from the data frame using the `.drop()` method.\n",
        "# - Similarly, the code multiplies the values under 'Weight_kg' by 2.20462 to convert kilograms to pounds.\n",
        "# - The resulting values are stored in a new attribute named 'Weight_pounds'.\n",
        "# - The original 'Weight_kg' attribute is dropped from the data frame.\n",
        "\n",
        "# You can now use the modified 'df' data frame, which has the contents and attribute names modified as required."
      ]
    },
    {
      "cell_type": "code",
      "execution_count": null,
      "metadata": {},
      "outputs": [],
      "source": [
        "# Write a Python code to normalize the content under the attribute \"CPU_frequency\" in a data frame df concerning its maximum value. \n",
        "# Make changes to the original data, and do not create a new attribute.\n",
        "\n",
        "import pandas as pd\n",
        "\n",
        "# Assuming you already have a Pandas data frame named 'df'\n",
        "\n",
        "# Normalize the content under 'CPU_frequency' with respect to its maximum value\n",
        "max_value = df['CPU_frequency'].max()\n",
        "df['CPU_frequency'] = df['CPU_frequency'] / max_value\n",
        "\n",
        "# Additional details:\n",
        "# - The code calculates the maximum value of the 'CPU_frequency' attribute using the `.max()` method.\n",
        "# - It then divides the values under 'CPU_frequency' by the maximum value to normalize them.\n",
        "# - The resulting normalized values overwrite the original values in the 'CPU_frequency' attribute.\n",
        "\n",
        "# You can now use the modified 'df' data frame, which has the content under the 'CPU_frequency' attribute normalized."
      ]
    },
    {
      "cell_type": "markdown",
      "metadata": {},
      "source": [
        "**Building the prompt: Categorical to numerical**"
      ]
    },
    {
      "cell_type": "code",
      "execution_count": null,
      "metadata": {},
      "outputs": [],
      "source": [
        "# Write a Python code to perform the following tasks.\n",
        "# 1. Convert a data frame df attribute \"Screen\", into indicator variables, saved as df1, with the naming convention \"Screen_<unique value of the attribute>\".\n",
        "# 2. Append df1 into the original data frame df.\n",
        "# 3. Drop the original attribute from the data frame df.\n",
        "\n",
        "import pandas as pd\n",
        "\n",
        "# Assuming you already have a Pandas data frame named 'df'\n",
        "\n",
        "# Convert the 'Screen' attribute into indicator variables\n",
        "df1 = pd.get_dummies(df['Screen'], prefix='Screen')\n",
        "\n",
        "# Append df1 into the original data frame df\n",
        "df = pd.concat([df, df1], axis=1)\n",
        "\n",
        "# Drop the original 'Screen' attribute from the data frame\n",
        "df.drop('Screen', axis=1, inplace=True)\n",
        "\n",
        "# Additional details:\n",
        "# - The `pd.get_dummies()` function is used to convert a categorical attribute into indicator variables.\n",
        "# - The resulting indicator variables are stored in a new data frame named 'df1'.\n",
        "# - The `prefix` parameter is used to specify the naming convention for the indicator variables.\n",
        "# - The `pd.concat()` function is used to concatenate the original data frame 'df' and 'df1' along the column axis (axis=1).\n",
        "# - The resulting concatenated data frame is assigned back to 'df'.\n",
        "# - Finally, the `.drop()` method is used to drop the original 'Screen' attribute from 'df'.\n",
        "\n",
        "# You can now use the modified 'df' data frame, which has the 'Screen' attribute converted into indicator variables, appended, and the original attribute dropped."
      ]
    },
    {
      "cell_type": "markdown",
      "metadata": {},
      "source": [
        "**Practice Problemss**"
      ]
    },
    {
      "cell_type": "code",
      "execution_count": null,
      "metadata": {},
      "outputs": [],
      "source": [
        "#  Write a Python code that can perfomr the column price conversion from USD to Euros\n",
        "import pandas as pd\n",
        "\n",
        "# Define the file path\n",
        "file_path = 'path/to/your/file.csv'  # Replace with the actual file path\n",
        "\n",
        "# Exchange rate\n",
        "usd_to_euro_rate = 0.92\n",
        "\n",
        "try:\n",
        "    # Read the CSV file into a pandas DataFrame\n",
        "    df = pd.read_csv(file_path)\n",
        "    print(\"CSV file successfully loaded into a DataFrame.\")\n",
        "\n",
        "    # Check if the 'Price' column exists\n",
        "    if 'Price' in df.columns:\n",
        "        # Convert Price to Euros and create a new column\n",
        "        df['Price_in_Euros'] = pd.to_numeric(df['Price'], errors='coerce') * usd_to_euro_rate\n",
        "        print(\"Price column successfully converted to Euros.\")\n",
        "    else:\n",
        "        print(\"Error: The 'Price' column does not exist in the DataFrame.\")\n",
        "\n",
        "    # Preview the updated DataFrame\n",
        "    print(\"Here is a preview of the data:\")\n",
        "    print(df.head())\n",
        "\n",
        "    # Optional: Save the updated DataFrame to a new CSV file\n",
        "    output_path = 'path/to/your/output_file.csv'  # Replace with the desired output path\n",
        "    df.to_csv(output_path, index=False)\n",
        "    print(f\"Updated DataFrame saved to {output_path}.\")\n",
        "    \n",
        "except FileNotFoundError:\n",
        "    print(f\"Error: The file at '{file_path}' was not found.\")\n",
        "except pd.errors.EmptyDataError:\n",
        "    print(\"Error: The file is empty or does not contain valid data.\")\n",
        "except Exception as e:\n",
        "    print(f\"An unexpected error occurred: {e}\")\n"
      ]
    },
    {
      "cell_type": "code",
      "execution_count": null,
      "metadata": {},
      "outputs": [],
      "source": [
        "# Write a Python code that can perform min-max normalization on the 'CPU_frequency' parameter\n",
        "import pandas as pd\n",
        "\n",
        "# Sample DataFrame (Replace with your actual data)\n",
        "data = {'CPU_frequency': [2.4, 3.2, 1.8, 2.9, 3.6]}\n",
        "df = pd.DataFrame(data)\n",
        "\n",
        "# Check if 'CPU_frequency' exists in the DataFrame\n",
        "if 'CPU_frequency' in df.columns:\n",
        "    # Perform min-max normalization\n",
        "    min_value = df['CPU_frequency'].min()\n",
        "    max_value = df['CPU_frequency'].max()\n",
        "    \n",
        "    df['CPU_frequency_normalized'] = (df['CPU_frequency'] - min_value) / (max_value - min_value)\n",
        "    \n",
        "    print(\"Normalization complete. Here is the updated DataFrame:\")\n",
        "    print(df)\n",
        "else:\n",
        "    print(\"Error: 'CPU_frequency' column not found in the DataFrame.\")\n"
      ]
    },
    {
      "cell_type": "markdown",
      "metadata": {},
      "source": [
        "## Authors\n"
      ]
    },
    {
      "cell_type": "markdown",
      "metadata": {},
      "source": [
        "[Abhishek Gagneja](https://www.linkedin.com/in/abhishek-gagneja-23051987/)\n"
      ]
    },
    {
      "cell_type": "markdown",
      "metadata": {},
      "source": [
        "## Change Log\n"
      ]
    },
    {
      "cell_type": "markdown",
      "metadata": {},
      "source": [
        "|Date (YYYY-MM-DD)|Version|Changed By|Change Description|\n",
        "|-|-|-|-|\n",
        "|2023-12-10|0.1|Abhishek Gagneja|Initial Draft created|\n"
      ]
    },
    {
      "cell_type": "markdown",
      "metadata": {},
      "source": [
        "Copyright © 2023 IBM Corporation. All rights reserved.\n"
      ]
    }
  ],
  "metadata": {
    "kernelspec": {
      "display_name": "Python 3",
      "language": "python",
      "name": "python3"
    },
    "language_info": {
      "codemirror_mode": {
        "name": "ipython",
        "version": 3
      },
      "file_extension": ".py",
      "mimetype": "text/x-python",
      "name": "python",
      "nbconvert_exporter": "python",
      "pygments_lexer": "ipython3",
      "version": "3.12.4"
    }
  },
  "nbformat": 4,
  "nbformat_minor": 4
}
