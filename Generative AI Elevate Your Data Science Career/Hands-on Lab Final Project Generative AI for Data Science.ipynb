{
 "cells": [
  {
   "cell_type": "markdown",
   "metadata": {},
   "source": [
    "## Hands-on Lab: Final Project: Generative AI for Data Science\n",
    "\n",
    "### Estimated Effort: 60 mins\n",
    "\n",
    "## Project Scenario\n",
    "You have been employed as a Data Scientist by a consultancy firm. The firm has a client who is a used car dealer. They have a special feature on Ford cars and they want your firm to design a model that can predict the optimum quotation price for the cars in their lot. They provide you with sales data for the past few years. The dataset contains different features of the cars and the price they were sold at.\n",
    "\n",
    "The tasks assigned to you are as follows.\n",
    "\n",
    "There might be a few duplicate entries and a few missing values in the dataset. Data cleaning will be a part of the assignment.\n",
    "You have to perform exploratory data analysis to draw keen insights on the data and determine the effect of different features on the price. Some specific requests by the client include:\n",
    "a. Identify number of sales for each fuel type\n",
    "b. Identify which transmission type has more price outliers\n",
    "Compare the models with linear, polynomial and ridge regressions on single and multiple variables to find the best performing model\n",
    "Perform a Grid Search on the Ridge regression model to identify the optimum hyperparameter for the model for best performance.\n",
    "You decide to use Generative AI to create python codes that can help you analyse the data, determine the best features and create the prediction model as per requirement.\n",
    "\n",
    "Disclaimer: This is a fictitious scenario created for the purpose of this project. The dataset being used is publicly available.\n",
    "\n",
    "## About the Dataset\n",
    "This dataset contains used car sale prices for Ford cars. This is a public dataset available on the Kaggle website as Ford Car Pricing Dataset under the CC0: Public Domain license. The dataset has been slightly modified for the purpose of this project.\n",
    "\n",
    "Attributes of this dataset have been explained below.\n",
    "\n",
    "| Variable | Description |\n",
    "|----------|-------------|\n",
    "| model | Car model name |\n",
    "| year | Year of car make |\n",
    "| transmission | Type of transmission (Automatic, Manual or Semi-Auto) |\n",
    "| mileage |\tNumber of miles traveled |\n",
    "| fuelType | The type of fuel the car uses (Petrol, Diesel, Hybrid, Electric, Other) |\n",
    "| tax |\tAnnual Tax payable in USD |\n",
    "| mpg |\tMiles per Gallon that the car runs at |\n",
    "| engineSize |\tEngine Size of the car |\n",
    "| price | Price of car in USD |\n",
    "\n",
    "## Code execution environment\n",
    "To test the prompt-generated code, keep the Jupyter Notebook (in the link below) open in a separate tab in your web browser. The notebook has some setup instructions that you should complete now.\n",
    "\n",
    "Jupyter-Lite Test Environment\n",
    "\n",
    "Please note the lab environment above will only work on Windows (Google Chrome or Firefox browser). If you don’t have a Windows system with either of these browsers, use the lab environment provided in the next lesson of the module.\n",
    "\n",
    "The data set for this lab is available in the following URL.\n",
    "\n",
    "URL = \"https://cf-courses-data.s3.us.cloud-object-storage.appdomain.cloud/IBMSkillsNetwork-AI0271EN-SkillsNetwork/labs/v1/m3/data/used_car_price_analysis.csv\"\n"
   ]
  },
  {
   "cell_type": "markdown",
   "metadata": {},
   "source": [
    "## Write a Python code that can perform the following tasks.\n",
    "1. Read the CSV file, located on a given file path, into a pandas data frame, assuming that the first row of the file can be used as the headers for the data.\n",
    "2. Print the first 5 rows of the dataframe to verify correct loading."
   ]
  },
  {
   "cell_type": "code",
   "execution_count": 1,
   "metadata": {},
   "outputs": [
    {
     "name": "stdout",
     "output_type": "stream",
     "text": [
      "Error: The file at 'your_file_path.csv' was not found.\n"
     ]
    }
   ],
   "source": [
    "# Code from ChatGPT\n",
    "\n",
    "import pandas as pd\n",
    "\n",
    "# Function to read the CSV file and display the first 5 rows\n",
    "def load_and_preview_csv(file_path):\n",
    "    try:\n",
    "        # Read the CSV file into a pandas DataFrame\n",
    "        df = pd.read_csv(file_path)\n",
    "        \n",
    "        # Print the first 5 rows of the DataFrame\n",
    "        print(\"First 5 rows of the DataFrame:\")\n",
    "        print(df.head())\n",
    "    except FileNotFoundError:\n",
    "        print(f\"Error: The file at '{file_path}' was not found.\")\n",
    "    except Exception as e:\n",
    "        print(f\"An error occurred: {e}\")\n",
    "\n",
    "# Example usage: replace 'your_file_path.csv' with the actual path to your CSV file\n",
    "file_path = 'your_file_path.csv'\n",
    "load_and_preview_csv(file_path)\n"
   ]
  },
  {
   "cell_type": "code",
   "execution_count": 2,
   "metadata": {},
   "outputs": [
    {
     "data": {
      "text/html": [
       "<div>\n",
       "<style scoped>\n",
       "    .dataframe tbody tr th:only-of-type {\n",
       "        vertical-align: middle;\n",
       "    }\n",
       "\n",
       "    .dataframe tbody tr th {\n",
       "        vertical-align: top;\n",
       "    }\n",
       "\n",
       "    .dataframe thead th {\n",
       "        text-align: right;\n",
       "    }\n",
       "</style>\n",
       "<table border=\"1\" class=\"dataframe\">\n",
       "  <thead>\n",
       "    <tr style=\"text-align: right;\">\n",
       "      <th></th>\n",
       "      <th>model</th>\n",
       "      <th>year</th>\n",
       "      <th>transmission</th>\n",
       "      <th>mileage</th>\n",
       "      <th>fuelType</th>\n",
       "      <th>tax</th>\n",
       "      <th>mpg</th>\n",
       "      <th>engineSize</th>\n",
       "      <th>price</th>\n",
       "    </tr>\n",
       "  </thead>\n",
       "  <tbody>\n",
       "    <tr>\n",
       "      <th>0</th>\n",
       "      <td>Fiesta</td>\n",
       "      <td>2017</td>\n",
       "      <td>Automatic</td>\n",
       "      <td>15944</td>\n",
       "      <td>Petrol</td>\n",
       "      <td>150.0</td>\n",
       "      <td>57.7</td>\n",
       "      <td>1.0</td>\n",
       "      <td>12000</td>\n",
       "    </tr>\n",
       "    <tr>\n",
       "      <th>1</th>\n",
       "      <td>Focus</td>\n",
       "      <td>2018</td>\n",
       "      <td>Manual</td>\n",
       "      <td>9083</td>\n",
       "      <td>Petrol</td>\n",
       "      <td>150.0</td>\n",
       "      <td>57.7</td>\n",
       "      <td>1.0</td>\n",
       "      <td>14000</td>\n",
       "    </tr>\n",
       "    <tr>\n",
       "      <th>2</th>\n",
       "      <td>Focus</td>\n",
       "      <td>2017</td>\n",
       "      <td>Manual</td>\n",
       "      <td>12456</td>\n",
       "      <td>Petrol</td>\n",
       "      <td>150.0</td>\n",
       "      <td>57.7</td>\n",
       "      <td>1.0</td>\n",
       "      <td>13000</td>\n",
       "    </tr>\n",
       "    <tr>\n",
       "      <th>3</th>\n",
       "      <td>Fiesta</td>\n",
       "      <td>2019</td>\n",
       "      <td>Manual</td>\n",
       "      <td>10460</td>\n",
       "      <td>Petrol</td>\n",
       "      <td>145.0</td>\n",
       "      <td>40.3</td>\n",
       "      <td>1.5</td>\n",
       "      <td>17500</td>\n",
       "    </tr>\n",
       "    <tr>\n",
       "      <th>4</th>\n",
       "      <td>Fiesta</td>\n",
       "      <td>2019</td>\n",
       "      <td>Automatic</td>\n",
       "      <td>1482</td>\n",
       "      <td>Petrol</td>\n",
       "      <td>145.0</td>\n",
       "      <td>48.7</td>\n",
       "      <td>1.0</td>\n",
       "      <td>16500</td>\n",
       "    </tr>\n",
       "  </tbody>\n",
       "</table>\n",
       "</div>"
      ],
      "text/plain": [
       "     model  year transmission  mileage fuelType    tax   mpg  engineSize  \\\n",
       "0   Fiesta  2017    Automatic    15944   Petrol  150.0  57.7         1.0   \n",
       "1    Focus  2018       Manual     9083   Petrol  150.0  57.7         1.0   \n",
       "2    Focus  2017       Manual    12456   Petrol  150.0  57.7         1.0   \n",
       "3   Fiesta  2019       Manual    10460   Petrol  145.0  40.3         1.5   \n",
       "4   Fiesta  2019    Automatic     1482   Petrol  145.0  48.7         1.0   \n",
       "\n",
       "   price  \n",
       "0  12000  \n",
       "1  14000  \n",
       "2  13000  \n",
       "3  17500  \n",
       "4  16500  "
      ]
     },
     "execution_count": 2,
     "metadata": {},
     "output_type": "execute_result"
    }
   ],
   "source": [
    "# My own code\n",
    "\n",
    "import pandas as pd\n",
    "\n",
    "URL = \"https://cf-courses-data.s3.us.cloud-object-storage.appdomain.cloud/IBMSkillsNetwork-AI0271EN-SkillsNetwork/labs/v1/m3/data/used_car_price_analysis.csv\"\n",
    "\n",
    "# Read the CSV file into a pandas DataFrame\n",
    "df = pd.read_csv(URL)\n",
    "\n",
    "df.head()"
   ]
  },
  {
   "cell_type": "markdown",
   "metadata": {},
   "source": [
    "## Data Preparation\n",
    "\n",
    "### Data Cleaning\n",
    "At this stage, it is required to clean up the data. As has been informed to you, the data may have missing values and duplicate entries. Write a prompt that performs the following tasks\n",
    "\n",
    "Identifies the columns with missing values and fills the blank cells with average value of the columns.\n",
    "Identifies and drops the duplicate entries from the data.\n",
    "\n",
    "Write a python code that performs the following tasks:\n",
    "1. Identify the columns of a data frame with missing values.\n",
    "2. Replace the missing values thus identified with mean value of the column.\n",
    "3. Deletes the duplicate entries from the data frame."
   ]
  },
  {
   "cell_type": "code",
   "execution_count": 3,
   "metadata": {},
   "outputs": [
    {
     "name": "stdout",
     "output_type": "stream",
     "text": [
      "Error: The file at 'your_file_path.csv' was not found.\n"
     ]
    }
   ],
   "source": [
    "# ChatGPT code\n",
    "import pandas as pd\n",
    "\n",
    "def handle_missing_and_duplicates(df):\n",
    "    # Task 1: Identify columns with missing values\n",
    "    columns_with_missing = df.columns[df.isnull().any()]\n",
    "    print(f\"Columns with missing values: {list(columns_with_missing)}\")\n",
    "    \n",
    "    # Task 2: Replace missing values with the mean of the column\n",
    "    for column in columns_with_missing:\n",
    "        if pd.api.types.is_numeric_dtype(df[column]):\n",
    "            mean_value = df[column].mean()\n",
    "            df[column].fillna(mean_value, inplace=True)\n",
    "        else:\n",
    "            print(f\"Skipping non-numeric column: {column}\")\n",
    "    \n",
    "    # Task 3: Delete duplicate entries\n",
    "    initial_row_count = len(df)\n",
    "    df.drop_duplicates(inplace=True)\n",
    "    final_row_count = len(df)\n",
    "    print(f\"Number of duplicates removed: {initial_row_count - final_row_count}\")\n",
    "    \n",
    "    return df\n",
    "\n",
    "# Example usage: Replace 'your_file_path.csv' with the actual file path\n",
    "file_path = 'your_file_path.csv'\n",
    "\n",
    "try:\n",
    "    # Load the dataset\n",
    "    data = pd.read_csv(file_path)\n",
    "    print(\"Initial DataFrame:\")\n",
    "    print(data.head())\n",
    "    \n",
    "    # Process the DataFrame\n",
    "    cleaned_data = handle_missing_and_duplicates(data)\n",
    "    \n",
    "    # Display the cleaned DataFrame\n",
    "    print(\"\\nCleaned DataFrame:\")\n",
    "    print(cleaned_data.head())\n",
    "except FileNotFoundError:\n",
    "    print(f\"Error: The file at '{file_path}' was not found.\")\n",
    "except Exception as e:\n",
    "    print(f\"An error occurred: {e}\")\n"
   ]
  },
  {
   "cell_type": "code",
   "execution_count": 4,
   "metadata": {},
   "outputs": [
    {
     "data": {
      "text/html": [
       "<div>\n",
       "<style scoped>\n",
       "    .dataframe tbody tr th:only-of-type {\n",
       "        vertical-align: middle;\n",
       "    }\n",
       "\n",
       "    .dataframe tbody tr th {\n",
       "        vertical-align: top;\n",
       "    }\n",
       "\n",
       "    .dataframe thead th {\n",
       "        text-align: right;\n",
       "    }\n",
       "</style>\n",
       "<table border=\"1\" class=\"dataframe\">\n",
       "  <thead>\n",
       "    <tr style=\"text-align: right;\">\n",
       "      <th></th>\n",
       "      <th>year</th>\n",
       "      <th>mileage</th>\n",
       "      <th>tax</th>\n",
       "      <th>mpg</th>\n",
       "      <th>engineSize</th>\n",
       "      <th>price</th>\n",
       "    </tr>\n",
       "  </thead>\n",
       "  <tbody>\n",
       "    <tr>\n",
       "      <th>count</th>\n",
       "      <td>17966.000000</td>\n",
       "      <td>17966.000000</td>\n",
       "      <td>17963.000000</td>\n",
       "      <td>17966.000000</td>\n",
       "      <td>17966.000000</td>\n",
       "      <td>17966.000000</td>\n",
       "    </tr>\n",
       "    <tr>\n",
       "      <th>mean</th>\n",
       "      <td>2016.866470</td>\n",
       "      <td>23362.608761</td>\n",
       "      <td>113.329177</td>\n",
       "      <td>57.906980</td>\n",
       "      <td>1.350807</td>\n",
       "      <td>12279.534844</td>\n",
       "    </tr>\n",
       "    <tr>\n",
       "      <th>std</th>\n",
       "      <td>2.050336</td>\n",
       "      <td>19472.054349</td>\n",
       "      <td>62.017631</td>\n",
       "      <td>10.125696</td>\n",
       "      <td>0.432367</td>\n",
       "      <td>4741.343657</td>\n",
       "    </tr>\n",
       "    <tr>\n",
       "      <th>min</th>\n",
       "      <td>1996.000000</td>\n",
       "      <td>1.000000</td>\n",
       "      <td>0.000000</td>\n",
       "      <td>20.800000</td>\n",
       "      <td>0.000000</td>\n",
       "      <td>495.000000</td>\n",
       "    </tr>\n",
       "    <tr>\n",
       "      <th>25%</th>\n",
       "      <td>2016.000000</td>\n",
       "      <td>9987.000000</td>\n",
       "      <td>30.000000</td>\n",
       "      <td>52.300000</td>\n",
       "      <td>1.000000</td>\n",
       "      <td>8999.000000</td>\n",
       "    </tr>\n",
       "    <tr>\n",
       "      <th>50%</th>\n",
       "      <td>2017.000000</td>\n",
       "      <td>18242.500000</td>\n",
       "      <td>145.000000</td>\n",
       "      <td>58.900000</td>\n",
       "      <td>1.200000</td>\n",
       "      <td>11291.000000</td>\n",
       "    </tr>\n",
       "    <tr>\n",
       "      <th>75%</th>\n",
       "      <td>2018.000000</td>\n",
       "      <td>31060.000000</td>\n",
       "      <td>145.000000</td>\n",
       "      <td>65.700000</td>\n",
       "      <td>1.500000</td>\n",
       "      <td>15299.000000</td>\n",
       "    </tr>\n",
       "    <tr>\n",
       "      <th>max</th>\n",
       "      <td>2060.000000</td>\n",
       "      <td>177644.000000</td>\n",
       "      <td>580.000000</td>\n",
       "      <td>201.800000</td>\n",
       "      <td>5.000000</td>\n",
       "      <td>54995.000000</td>\n",
       "    </tr>\n",
       "  </tbody>\n",
       "</table>\n",
       "</div>"
      ],
      "text/plain": [
       "               year        mileage           tax           mpg    engineSize  \\\n",
       "count  17966.000000   17966.000000  17963.000000  17966.000000  17966.000000   \n",
       "mean    2016.866470   23362.608761    113.329177     57.906980      1.350807   \n",
       "std        2.050336   19472.054349     62.017631     10.125696      0.432367   \n",
       "min     1996.000000       1.000000      0.000000     20.800000      0.000000   \n",
       "25%     2016.000000    9987.000000     30.000000     52.300000      1.000000   \n",
       "50%     2017.000000   18242.500000    145.000000     58.900000      1.200000   \n",
       "75%     2018.000000   31060.000000    145.000000     65.700000      1.500000   \n",
       "max     2060.000000  177644.000000    580.000000    201.800000      5.000000   \n",
       "\n",
       "              price  \n",
       "count  17966.000000  \n",
       "mean   12279.534844  \n",
       "std     4741.343657  \n",
       "min      495.000000  \n",
       "25%     8999.000000  \n",
       "50%    11291.000000  \n",
       "75%    15299.000000  \n",
       "max    54995.000000  "
      ]
     },
     "execution_count": 4,
     "metadata": {},
     "output_type": "execute_result"
    }
   ],
   "source": [
    "df.describe()"
   ]
  },
  {
   "cell_type": "code",
   "execution_count": 5,
   "metadata": {},
   "outputs": [
    {
     "name": "stdout",
     "output_type": "stream",
     "text": [
      "<class 'pandas.core.frame.DataFrame'>\n",
      "RangeIndex: 17966 entries, 0 to 17965\n",
      "Data columns (total 9 columns):\n",
      " #   Column        Non-Null Count  Dtype  \n",
      "---  ------        --------------  -----  \n",
      " 0   model         17966 non-null  object \n",
      " 1   year          17966 non-null  int64  \n",
      " 2   transmission  17966 non-null  object \n",
      " 3   mileage       17966 non-null  int64  \n",
      " 4   fuelType      17966 non-null  object \n",
      " 5   tax           17963 non-null  float64\n",
      " 6   mpg           17966 non-null  float64\n",
      " 7   engineSize    17966 non-null  float64\n",
      " 8   price         17966 non-null  int64  \n",
      "dtypes: float64(3), int64(3), object(3)\n",
      "memory usage: 1.2+ MB\n"
     ]
    }
   ],
   "source": [
    "df.info()  "
   ]
  },
  {
   "cell_type": "code",
   "execution_count": 6,
   "metadata": {},
   "outputs": [
    {
     "data": {
      "text/plain": [
       "(17966, 9)"
      ]
     },
     "execution_count": 6,
     "metadata": {},
     "output_type": "execute_result"
    }
   ],
   "source": [
    "df.shape"
   ]
  },
  {
   "cell_type": "code",
   "execution_count": 7,
   "metadata": {},
   "outputs": [
    {
     "data": {
      "text/plain": [
       "model           0\n",
       "year            0\n",
       "transmission    0\n",
       "mileage         0\n",
       "fuelType        0\n",
       "tax             3\n",
       "mpg             0\n",
       "engineSize      0\n",
       "price           0\n",
       "dtype: int64"
      ]
     },
     "execution_count": 7,
     "metadata": {},
     "output_type": "execute_result"
    }
   ],
   "source": [
    "# My own code\n",
    "\n",
    "# Identify columns with missing values\n",
    "df.isnull().sum()"
   ]
  },
  {
   "cell_type": "code",
   "execution_count": 8,
   "metadata": {},
   "outputs": [],
   "source": [
    "# Replace missing values with the mean of the column\n",
    "mean_value = df['tax'].mean()\n",
    "df['tax'].fillna(mean_value, inplace=True)  "
   ]
  },
  {
   "cell_type": "code",
   "execution_count": 9,
   "metadata": {},
   "outputs": [
    {
     "data": {
      "text/plain": [
       "154"
      ]
     },
     "execution_count": 9,
     "metadata": {},
     "output_type": "execute_result"
    }
   ],
   "source": [
    "# How many duplicates are there in the DataFrame?\n",
    "df.duplicated().sum()"
   ]
  },
  {
   "cell_type": "code",
   "execution_count": 10,
   "metadata": {},
   "outputs": [],
   "source": [
    "# Remove duplicate entries\n",
    "df.drop_duplicates(inplace=True)"
   ]
  },
  {
   "cell_type": "code",
   "execution_count": 11,
   "metadata": {},
   "outputs": [
    {
     "data": {
      "text/plain": [
       "(17812, 9)"
      ]
     },
     "execution_count": 11,
     "metadata": {},
     "output_type": "execute_result"
    }
   ],
   "source": [
    "df.shape"
   ]
  },
  {
   "cell_type": "code",
   "execution_count": 12,
   "metadata": {},
   "outputs": [],
   "source": [
    "df.to_csv('cleaned_used_car_data.csv', index=False)"
   ]
  },
  {
   "cell_type": "markdown",
   "metadata": {},
   "source": [
    "## Data Augmentation (optional)\n",
    "Once cleaned, you may choose to augment this dataset with additional samples, created synthetically using Mostly.ai."
   ]
  },
  {
   "cell_type": "code",
   "execution_count": 13,
   "metadata": {},
   "outputs": [
    {
     "data": {
      "text/html": [
       "<div>\n",
       "<style scoped>\n",
       "    .dataframe tbody tr th:only-of-type {\n",
       "        vertical-align: middle;\n",
       "    }\n",
       "\n",
       "    .dataframe tbody tr th {\n",
       "        vertical-align: top;\n",
       "    }\n",
       "\n",
       "    .dataframe thead th {\n",
       "        text-align: right;\n",
       "    }\n",
       "</style>\n",
       "<table border=\"1\" class=\"dataframe\">\n",
       "  <thead>\n",
       "    <tr style=\"text-align: right;\">\n",
       "      <th></th>\n",
       "      <th>model</th>\n",
       "      <th>year</th>\n",
       "      <th>transmission</th>\n",
       "      <th>mileage</th>\n",
       "      <th>fuelType</th>\n",
       "      <th>tax</th>\n",
       "      <th>mpg</th>\n",
       "      <th>engineSize</th>\n",
       "      <th>price</th>\n",
       "    </tr>\n",
       "  </thead>\n",
       "  <tbody>\n",
       "    <tr>\n",
       "      <th>0</th>\n",
       "      <td>Kuga</td>\n",
       "      <td>2019</td>\n",
       "      <td>Manual</td>\n",
       "      <td>837</td>\n",
       "      <td>Diesel</td>\n",
       "      <td>145.389071</td>\n",
       "      <td>39.5</td>\n",
       "      <td>1.5</td>\n",
       "      <td>19851</td>\n",
       "    </tr>\n",
       "    <tr>\n",
       "      <th>1</th>\n",
       "      <td>Fiesta</td>\n",
       "      <td>2017</td>\n",
       "      <td>Manual</td>\n",
       "      <td>23514</td>\n",
       "      <td>Petrol</td>\n",
       "      <td>149.320967</td>\n",
       "      <td>62.9</td>\n",
       "      <td>1.0</td>\n",
       "      <td>9715</td>\n",
       "    </tr>\n",
       "    <tr>\n",
       "      <th>2</th>\n",
       "      <td>EcoSport</td>\n",
       "      <td>2017</td>\n",
       "      <td>Manual</td>\n",
       "      <td>22918</td>\n",
       "      <td>Petrol</td>\n",
       "      <td>147.075381</td>\n",
       "      <td>52.3</td>\n",
       "      <td>1.0</td>\n",
       "      <td>10997</td>\n",
       "    </tr>\n",
       "    <tr>\n",
       "      <th>3</th>\n",
       "      <td>Kuga</td>\n",
       "      <td>2013</td>\n",
       "      <td>Manual</td>\n",
       "      <td>45161</td>\n",
       "      <td>Hybrid</td>\n",
       "      <td>133.909423</td>\n",
       "      <td>61.2</td>\n",
       "      <td>2.0</td>\n",
       "      <td>9547</td>\n",
       "    </tr>\n",
       "    <tr>\n",
       "      <th>4</th>\n",
       "      <td>Fiesta</td>\n",
       "      <td>2017</td>\n",
       "      <td>Automatic</td>\n",
       "      <td>3431</td>\n",
       "      <td>Petrol</td>\n",
       "      <td>148.101029</td>\n",
       "      <td>54.3</td>\n",
       "      <td>1.0</td>\n",
       "      <td>16424</td>\n",
       "    </tr>\n",
       "  </tbody>\n",
       "</table>\n",
       "</div>"
      ],
      "text/plain": [
       "       model  year transmission  mileage fuelType         tax   mpg  \\\n",
       "0       Kuga  2019       Manual      837   Diesel  145.389071  39.5   \n",
       "1     Fiesta  2017       Manual    23514   Petrol  149.320967  62.9   \n",
       "2   EcoSport  2017       Manual    22918   Petrol  147.075381  52.3   \n",
       "3       Kuga  2013       Manual    45161   Hybrid  133.909423  61.2   \n",
       "4     Fiesta  2017    Automatic     3431   Petrol  148.101029  54.3   \n",
       "\n",
       "   engineSize  price  \n",
       "0         1.5  19851  \n",
       "1         1.0   9715  \n",
       "2         1.0  10997  \n",
       "3         2.0   9547  \n",
       "4         1.0  16424  "
      ]
     },
     "execution_count": 13,
     "metadata": {},
     "output_type": "execute_result"
    }
   ],
   "source": [
    "file_path = 'C:/Users/default.ASUS/OneDrive/Desktop/Courses/Data Science/Generative AI Elevate Your Data Science Career/cleaned_used_car_data/cleaned_used_car_data_augmented.csv'\n",
    "\n",
    "df1 = pd.read_csv(file_path)\n",
    "\n",
    "df1.head()"
   ]
  },
  {
   "cell_type": "code",
   "execution_count": 14,
   "metadata": {},
   "outputs": [
    {
     "data": {
      "text/plain": [
       "(17812, 9)"
      ]
     },
     "execution_count": 14,
     "metadata": {},
     "output_type": "execute_result"
    }
   ],
   "source": [
    "df1.shape"
   ]
  },
  {
   "cell_type": "markdown",
   "metadata": {},
   "source": [
    "## Data Insights and Visualization\n",
    "Write prompts that generate codes to prform the following actions.\n",
    "\n",
    "1. Identify the 5 attributes that have the highest correlation with the price parameter.\n",
    "\n",
    "   Write a python code that identifies the top 5 attributes with highest correlation with the target attribute in a data frame."
   ]
  },
  {
   "cell_type": "code",
   "execution_count": 15,
   "metadata": {},
   "outputs": [
    {
     "name": "stdout",
     "output_type": "stream",
     "text": [
      "Top 5 attributes with highest correlation to the target attribute:\n",
      "Feature1    1.0\n",
      "Feature2    1.0\n",
      "Feature3    1.0\n",
      "Feature4    1.0\n",
      "Name: Target, dtype: float64\n"
     ]
    }
   ],
   "source": [
    "# ChatGPT code\n",
    "\n",
    "import pandas as pd\n",
    "\n",
    "# Example DataFrame\n",
    "data = {\n",
    "    \"Feature1\": [1, 2, 3, 4, 5],\n",
    "    \"Feature2\": [5, 4, 3, 2, 1],\n",
    "    \"Feature3\": [2, 3, 4, 5, 6],\n",
    "    \"Feature4\": [10, 20, 30, 40, 50],\n",
    "    \"Target\": [10, 20, 30, 40, 50],\n",
    "}\n",
    "df = pd.DataFrame(data)\n",
    "\n",
    "# Define the target attribute\n",
    "target_attribute = \"Target\"\n",
    "\n",
    "# Compute correlations\n",
    "correlation_matrix = df.corr()\n",
    "\n",
    "# Extract correlations of features with the target attribute\n",
    "target_correlations = correlation_matrix[target_attribute].drop(labels=[target_attribute])  # Exclude self-correlation\n",
    "\n",
    "# Identify the top 5 attributes with the highest correlation\n",
    "top_5_features = target_correlations.abs().sort_values(ascending=False).head(5)\n",
    "\n",
    "print(\"Top 5 attributes with highest correlation to the target attribute:\")\n",
    "print(top_5_features)\n"
   ]
  },
  {
   "cell_type": "code",
   "execution_count": 18,
   "metadata": {},
   "outputs": [
    {
     "name": "stdout",
     "output_type": "stream",
     "text": [
      "             Attribute  Correlation Value  Pearson Coefficient  P-value\n",
      "year              year           0.583780             0.583780      0.0\n",
      "mileage        mileage          -0.435966            -0.435966      0.0\n",
      "tax                tax           0.342498             0.342498      0.0\n",
      "mpg                mpg          -0.316955            -0.316955      0.0\n",
      "engineSize  engineSize           0.415941             0.415941      0.0\n"
     ]
    }
   ],
   "source": [
    "# My own code\n",
    "# Write a python code that identifies the top 5 attributes with highest correlation with the target attribute in a data frame.\n",
    "\n",
    "# 1. Identify the 5 attributes that have the highest correlation with the price parameter.\n",
    "\n",
    "import pandas as pd\n",
    "import numpy as np\n",
    "from scipy.stats import pearsonr\n",
    "\n",
    "df1 = pd.read_csv(file_path)\n",
    "\n",
    "# Select numerical attributes\n",
    "numerical_attributes = df1.select_dtypes(include=np.number)\n",
    "\n",
    "# Calculate correlation values for all numerical attributes against 'Price'\n",
    "correlation_values = numerical_attributes.corr()['price'].drop('price')\n",
    "\n",
    "# Calculate Pearson coefficient and p-values for all numerical attributes against 'Price'\n",
    "pearson_coefficients = []\n",
    "p_values = []\n",
    "\n",
    "for column in numerical_attributes.columns:\n",
    "    if column != 'price':\n",
    "        pearson_coefficient, p_value = pearsonr(numerical_attributes[column], df1['price'])\n",
    "        pearson_coefficients.append(pearson_coefficient)\n",
    "        p_values.append(p_value)\n",
    "\n",
    "# Create a new dataframe to store the results\n",
    "results_df = pd.DataFrame({'Attribute': correlation_values.index, 'Correlation Value': correlation_values, 'Pearson Coefficient': pearson_coefficients, 'P-value': p_values})\n",
    "\n",
    "# Print the results\n",
    "print(results_df)\n"
   ]
  },
  {
   "cell_type": "markdown",
   "metadata": {},
   "source": [
    "2. Count the number of cars under each unique value of fuelType attribute.\n",
    "\n",
    "   Write a python code that counts the number of entries in a dataframe with each unique value of a specific attribute."
   ]
  },
  {
   "cell_type": "code",
   "execution_count": null,
   "metadata": {},
   "outputs": [],
   "source": [
    "# ChatGPT code\n",
    "\n",
    "import pandas as pd\n",
    "\n",
    "# Example DataFrame (replace with your actual DataFrame)\n",
    "data = {\n",
    "    \"model\": [\"Toyota\", \"Honda\", \"Ford\", \"BMW\", \"Honda\", \"Toyota\"],\n",
    "    \"year\": [2015, 2018, 2020, 2022, 2017, 2019],\n",
    "    \"transmission\": [\"Automatic\", \"Manual\", \"Semi-Auto\", \"Automatic\", \"Manual\", \"Automatic\"],\n",
    "    \"mileage\": [50000, 30000, 20000, 15000, 35000, 45000],\n",
    "    \"fuelType\": [\"Petrol\", \"Diesel\", \"Petrol\", \"Hybrid\", \"Electric\", \"Diesel\"],\n",
    "    \"tax\": [200, 250, 300, 150, 100, 200],\n",
    "    \"mpg\": [25, 30, 22, 35, 50, 28],\n",
    "    \"engineSize\": [1.8, 2.0, 2.5, 1.6, 1.2, 2.0],\n",
    "    \"price\": [15000, 18000, 22000, 25000, 23000, 17000]\n",
    "}\n",
    "\n",
    "df = pd.DataFrame(data)\n",
    "\n",
    "# Specify the attribute you want to count unique values for (e.g., 'fuelType')\n",
    "attribute = 'fuelType'\n",
    "\n",
    "# Count the occurrences of each unique value in the specified attribute\n",
    "value_counts = df[attribute].value_counts()\n",
    "\n",
    "# Print the result\n",
    "print(f\"Count of unique values in '{attribute}':\")\n",
    "print(value_counts)\n",
    "\n"
   ]
  },
  {
   "cell_type": "code",
   "execution_count": 20,
   "metadata": {},
   "outputs": [
    {
     "data": {
      "text/plain": [
       "fuelType\n",
       "Petrol    11930\n",
       "Diesel     5840\n",
       "Hybrid       37\n",
       "_RARE_        5\n",
       "Name: count, dtype: int64"
      ]
     },
     "execution_count": 20,
     "metadata": {},
     "output_type": "execute_result"
    }
   ],
   "source": [
    "# My own code \n",
    "# Write a python code that counts the number of entries in a dataframe with each unique value of a specific attribute.\n",
    "\n",
    "# 2. Count the number of cars under each unique value of fuelType attribute.\n",
    "\n",
    "df1['fuelType'].value_counts()"
   ]
  },
  {
   "cell_type": "markdown",
   "metadata": {},
   "source": [
    "3. Create a Box plot to determine whether cars with automatic, manual or semi-auto type of transmission have more price outliers. Use the Seaborn library for creating the plot.\n",
    "\n",
    "   Write a python code that creates a Seaborn box plot between a source and target attributes of a dataframe."
   ]
  },
  {
   "cell_type": "code",
   "execution_count": null,
   "metadata": {},
   "outputs": [],
   "source": [
    "# ChatGPT code\n",
    "\n",
    "import pandas as pd\n",
    "import seaborn as sns\n",
    "import matplotlib.pyplot as plt\n",
    "\n",
    "# Example DataFrame (replace with your actual DataFrame)\n",
    "data = {\n",
    "    \"source\": [\"A\", \"B\", \"A\", \"B\", \"A\", \"B\", \"C\", \"C\", \"A\", \"B\"],\n",
    "    \"target\": [100, 150, 120, 170, 110, 160, 140, 180, 115, 155]\n",
    "}\n",
    "\n",
    "df = pd.DataFrame(data)\n",
    "\n",
    "# Create a Seaborn boxplot between 'source' and 'target'\n",
    "plt.figure(figsize=(8, 6))\n",
    "sns.boxplot(x=\"source\", y=\"target\", data=df)\n",
    "\n",
    "# Display the plot\n",
    "plt.title('Boxplot of Target Attribute by Source Attribute')\n",
    "plt.show()\n"
   ]
  },
  {
   "cell_type": "code",
   "execution_count": 22,
   "metadata": {},
   "outputs": [
    {
     "data": {
      "image/png": "[encoded data removed]",
      "text/plain": [
       "<Figure size 800x600 with 1 Axes>"
      ]
     },
     "metadata": {},
     "output_type": "display_data"
    }
   ],
   "source": [
    "# My own code\n",
    "\n",
    "# 3. Create a Box plot to determine whether cars with automatic, manual or semi-auto type of transmission have more price outliers. \n",
    "#    Use the Seaborn library for creating the plot.\n",
    "\n",
    "import seaborn as sns\n",
    "import matplotlib.pyplot as plt\n",
    "\n",
    "# Create a boxplot to compare the distribution of 'price' based on 'transmission' type\n",
    "plt.figure(figsize=(8, 6))\n",
    "sns.boxplot(x='transmission', y='price', data=df1)\n",
    "plt.title('Boxplot of Price by Transmission Type')\n",
    "plt.show()"
   ]
  },
  {
   "cell_type": "markdown",
   "metadata": {},
   "source": [
    "4. Generate the regression plot between mpg parameter and the price to determine the correlation type between the two.\n",
    "\n",
    "   Write a python code that creates a regression plot between a source attribute and a target attribute."
   ]
  },
  {
   "cell_type": "code",
   "execution_count": null,
   "metadata": {},
   "outputs": [],
   "source": [
    "# ChatGPT code\n",
    "\n",
    "import pandas as pd\n",
    "import seaborn as sns\n",
    "import matplotlib.pyplot as plt\n",
    "\n",
    "# Example DataFrame (replace with your actual DataFrame)\n",
    "data = {\n",
    "    \"source\": [1, 2, 3, 4, 5, 6, 7, 8, 9, 10],\n",
    "    \"target\": [10, 20, 25, 35, 40, 50, 55, 60, 70, 75]\n",
    "}\n",
    "\n",
    "df = pd.DataFrame(data)\n",
    "\n",
    "# Create a regression plot between 'source' and 'target'\n",
    "plt.figure(figsize=(8, 6))\n",
    "sns.regplot(x=\"source\", y=\"target\", data=df)\n",
    "\n",
    "# Display the plot\n",
    "plt.title('Regression Plot between Source and Target')\n",
    "plt.show()\n"
   ]
  },
  {
   "cell_type": "code",
   "execution_count": 24,
   "metadata": {},
   "outputs": [
    {
     "data": {
      "image/png": "[encoded data removed]",
      "text/plain": [
       "<Figure size 800x600 with 1 Axes>"
      ]
     },
     "metadata": {},
     "output_type": "display_data"
    }
   ],
   "source": [
    "# My own code\n",
    "# 4. Generate the regression plot between mpg parameter and the price to determine the correlation type between the two.\n",
    "\n",
    "plt.figure(figsize=(8, 6))\n",
    "sns.regplot(x='mpg', y='price', data=df1)\n",
    "plt.title('Regression Plot between MPG and Price')\n",
    "plt.show()"
   ]
  },
  {
   "cell_type": "markdown",
   "metadata": {},
   "source": [
    "## Model Development and Evaluation\n",
    "Write prompts that generate codes to perform the following actions.\n",
    "\n",
    "1. Fit a linear regression model to predict the price using the feature mpg. Then calculate the R^2 and MSE values for the model.\n",
    "\n",
    "Write a python code to fit a linear regression model on a target variable on basis of a source variable. Calculate the R^2 values and MSE values for this model."
   ]
  },
  {
   "cell_type": "code",
   "execution_count": null,
   "metadata": {},
   "outputs": [],
   "source": [
    "# Chat GPT code\n",
    "\n",
    "import pandas as pd\n",
    "from sklearn.linear_model import LinearRegression\n",
    "from sklearn.metrics import mean_squared_error, r2_score\n",
    "import matplotlib.pyplot as plt\n",
    "\n",
    "# Example DataFrame (replace with your actual DataFrame)\n",
    "data = {\n",
    "    \"source\": [1, 2, 3, 4, 5, 6, 7, 8, 9, 10],\n",
    "    \"target\": [10, 20, 25, 35, 40, 50, 55, 60, 70, 75]\n",
    "}\n",
    "\n",
    "df = pd.DataFrame(data)\n",
    "\n",
    "# Reshape the 'source' column to be a 2D array as required by scikit-learn\n",
    "X = df[\"source\"].values.reshape(-1, 1)  # Source variable\n",
    "y = df[\"target\"].values  # Target variable\n",
    "\n",
    "# Fit a linear regression model\n",
    "model = LinearRegression()\n",
    "model.fit(X, y)\n",
    "\n",
    "# Predict the target variable using the trained model\n",
    "y_pred = model.predict(X)\n",
    "\n",
    "# Calculate R^2 (Coefficient of Determination)\n",
    "r2 = r2_score(y, y_pred)\n",
    "\n",
    "# Calculate MSE (Mean Squared Error)\n",
    "mse = mean_squared_error(y, y_pred)\n",
    "\n",
    "# Print the R^2 and MSE values\n",
    "print(f\"R^2 Value: {r2}\")\n",
    "print(f\"Mean Squared Error (MSE): {mse}\")\n",
    "\n",
    "# Plotting the regression line and scatter plot\n",
    "plt.figure(figsize=(8, 6))\n",
    "plt.scatter(X, y, color='blue', label='Actual Data')\n",
    "plt.plot(X, y_pred, color='red', label='Regression Line')\n",
    "plt.title('Linear Regression: Target vs Source')\n",
    "plt.xlabel('Source')\n",
    "plt.ylabel('Target')\n",
    "plt.legend()\n",
    "plt.show()\n"
   ]
  },
  {
   "cell_type": "code",
   "execution_count": 26,
   "metadata": {},
   "outputs": [
    {
     "name": "stdout",
     "output_type": "stream",
     "text": [
      "Mean Squared Error (MSE): 20713904.051435817\n",
      "Coefficient of Determination (R^2): 0.10046065058795661\n"
     ]
    }
   ],
   "source": [
    "# My own code\n",
    "# 1. Fit a linear regression model to predict the price using the feature mpg. Then calculate the R^2 and MSE values for the model.\n",
    "\n",
    "from sklearn.linear_model import LinearRegression\n",
    "from sklearn.metrics import mean_squared_error, r2_score\n",
    "\n",
    "# Extract the source variable and target variable from the data frame\n",
    "X = df1[['mpg']]\n",
    "y = df1['price']\n",
    "\n",
    "# Initialize a linear regression model\n",
    "model = LinearRegression()\n",
    "\n",
    "# Train the model using the source and target variables\n",
    "model.fit(X, y)\n",
    "\n",
    "# Make predictions using the trained model\n",
    "y_pred = model.predict(X)\n",
    "\n",
    "# Calculate the mean squared error (MSE)\n",
    "mse = mean_squared_error(y, y_pred)\n",
    "\n",
    "# Calculate the coefficient of determination (R^2)\n",
    "r2 = r2_score(y, y_pred)\n",
    "\n",
    "# Display the MSE and R^2 values\n",
    "print(\"Mean Squared Error (MSE):\", mse)\n",
    "print(\"Coefficient of Determination (R^2):\", r2)"
   ]
  },
  {
   "cell_type": "markdown",
   "metadata": {},
   "source": [
    "2. Fit a linear regression model to predict the price using the following set of features.\n",
    "   year, mileage, tax, mpg and engineSize.\n",
    "   Calculate the R^2 and MSE values for this model.\n",
    "\n",
    "   Write a python code to fit a linear regression model on a target variable on basis of a set of source variables. Calculate the R^2 values and MSE values for this model."
   ]
  },
  {
   "cell_type": "code",
   "execution_count": null,
   "metadata": {},
   "outputs": [],
   "source": [
    "# Code from ChatGPT\n",
    "\n",
    "import pandas as pd\n",
    "from sklearn.model_selection import train_test_split\n",
    "from sklearn.linear_model import LinearRegression\n",
    "from sklearn.metrics import mean_squared_error, r2_score\n",
    "\n",
    "# Load your dataset\n",
    "# Replace 'your_dataset.csv' with your actual dataset file\n",
    "# Ensure columns include: 'year', 'mileage', 'tax', 'mpg', 'engineSize', 'price'\n",
    "df = pd.read_csv('your_dataset.csv')\n",
    "\n",
    "# Features and target\n",
    "X = df[['year', 'mileage', 'tax', 'mpg', 'engineSize']]\n",
    "y = df['price']\n",
    "\n",
    "# Split the dataset into training and testing sets\n",
    "X_train, X_test, y_train, y_test = train_test_split(X, y, test_size=0.2, random_state=42)\n",
    "\n",
    "# Initialize and train the linear regression model\n",
    "model = LinearRegression()\n",
    "model.fit(X_train, y_train)\n",
    "\n",
    "# Make predictions\n",
    "y_pred = model.predict(X_test)\n",
    "\n",
    "# Calculate R^2 and MSE\n",
    "r2 = r2_score(y_test, y_pred)\n",
    "mse = mean_squared_error(y_test, y_pred)\n",
    "\n",
    "print(f\"R^2: {r2}\")\n",
    "print(f\"MSE: {mse}\")\n"
   ]
  },
  {
   "cell_type": "code",
   "execution_count": 27,
   "metadata": {},
   "outputs": [
    {
     "name": "stdout",
     "output_type": "stream",
     "text": [
      "Mean Squared Error (MSE): 8447709.281053713\n",
      "Coefficient of Determination (R^2): 0.6331427000998202\n"
     ]
    }
   ],
   "source": [
    "# My own code\n",
    "\n",
    "# Define the feature set and target variable\n",
    "X_features = df1[['year', 'mileage', 'tax', 'mpg', 'engineSize']]\n",
    "y_target = df1['price']\n",
    "\n",
    "# Initialize the linear regression model\n",
    "model = LinearRegression()\n",
    "\n",
    "# Train the model using the feature set and target variable\n",
    "model.fit(X_features, y_target)\n",
    "\n",
    "# Make predictions using the trained model\n",
    "y_pred = model.predict(X_features)\n",
    "\n",
    "# Calculate the mean squared error (MSE)\n",
    "mse = mean_squared_error(y_target, y_pred)\n",
    "\n",
    "# Calculate the coefficient of determination (R^2)\n",
    "r2 = r2_score(y_target, y_pred)\n",
    "\n",
    "# Display the MSE and R^2 values\n",
    "print(\"Mean Squared Error (MSE):\", mse)\n",
    "print(\"Coefficient of Determination (R^2):\", r2)"
   ]
  },
  {
   "cell_type": "markdown",
   "metadata": {},
   "source": [
    "3. For the same set of features as in the question above, create a pipeline model object that uses standard scalar, second degree polynomial features and a linear regression model. Calculate the R^2 value and the MSE value for this model.\n",
    "\n",
    "Write a python code that can perform the following tasks.\n",
    "\n",
    "1. Create a pipeline with standard scalar, second degree polynomial features and linear regression model.\n",
    "2. Fit this pipeline for a target variable using a set of source attributes from a dataframe.\n",
    "3. Evaluate the R^2 and MSE values for the trained model."
   ]
  },
  {
   "cell_type": "code",
   "execution_count": null,
   "metadata": {},
   "outputs": [],
   "source": [
    "# ChatGPT code\n",
    "\n",
    "import pandas as pd\n",
    "from sklearn.model_selection import train_test_split\n",
    "from sklearn.preprocessing import StandardScaler, PolynomialFeatures\n",
    "from sklearn.linear_model import LinearRegression\n",
    "from sklearn.pipeline import Pipeline\n",
    "from sklearn.metrics import r2_score, mean_squared_error\n",
    "\n",
    "# Example dataset (replace with your actual dataset)\n",
    "# Ensure your dataframe includes the source attributes and the target variable\n",
    "data = {\n",
    "    'year': [2010, 2011, 2012, 2013, 2014],\n",
    "    'mileage': [50000, 60000, 70000, 80000, 90000],\n",
    "    'tax': [150, 160, 170, 180, 190],\n",
    "    'mpg': [40, 35, 30, 25, 20],\n",
    "    'engineSize': [1.2, 1.4, 1.6, 1.8, 2.0],\n",
    "    'price': [5000, 5500, 6000, 6500, 7000]\n",
    "}\n",
    "df = pd.DataFrame(data)\n",
    "\n",
    "# Features (source attributes) and target variable\n",
    "X = df[['year', 'mileage', 'tax', 'mpg', 'engineSize']]\n",
    "y = df['price']\n",
    "\n",
    "# Split the dataset into training and testing sets\n",
    "X_train, X_test, y_train, y_test = train_test_split(X, y, test_size=0.2, random_state=42)\n",
    "\n",
    "# Create a pipeline with StandardScaler, PolynomialFeatures, and LinearRegression\n",
    "pipeline = Pipeline([\n",
    "    ('scaler', StandardScaler()),  # Standardize the features\n",
    "    ('poly', PolynomialFeatures(degree=2)),  # Add polynomial features of degree 2\n",
    "    ('model', LinearRegression())  # Linear regression model\n",
    "])\n",
    "\n",
    "# Train the pipeline on the training data\n",
    "pipeline.fit(X_train, y_train)\n",
    "\n",
    "# Predict using the trained pipeline\n",
    "y_pred = pipeline.predict(X_test)\n",
    "\n",
    "# Evaluate the model\n",
    "r2 = r2_score(y_test, y_pred)\n",
    "mse = mean_squared_error(y_test, y_pred)\n",
    "\n",
    "print(f\"R^2: {r2}\")\n",
    "print(f\"MSE: {mse}\")\n"
   ]
  },
  {
   "cell_type": "code",
   "execution_count": 29,
   "metadata": {},
   "outputs": [
    {
     "name": "stdout",
     "output_type": "stream",
     "text": [
      "Mean Squared Error (MSE): 7300393.124767291\n",
      "Coefficient of Determination (R^2): 0.682967012611506\n"
     ]
    }
   ],
   "source": [
    "# My own code\n",
    "\n",
    "import pandas as pd\n",
    "import numpy as np\n",
    "from sklearn.pipeline import make_pipeline\n",
    "from sklearn.preprocessing import StandardScaler, PolynomialFeatures\n",
    "from sklearn.linear_model import LinearRegression\n",
    "from sklearn.metrics import mean_squared_error, r2_score\n",
    "\n",
    "# Assume you have a pandas data frame called 'data_frame' with multiple columns: 'source_variable_1', 'source_variable_2', ..., 'target_variable'\n",
    "\n",
    "# Extract the source variables and target variable from the data frame\n",
    "X = df1[['year', 'mileage', 'tax', 'mpg', 'engineSize']]\n",
    "y = df1['price']\n",
    "\n",
    "# Create a pipeline that performs parameter scaling, polynomial feature generation, and linear regression\n",
    "pipeline = make_pipeline(\n",
    "    StandardScaler(),\n",
    "    PolynomialFeatures(degree=2),\n",
    "    LinearRegression()\n",
    ")\n",
    "\n",
    "# Train the model using the source and target variables\n",
    "pipeline.fit(X, y)\n",
    "\n",
    "# Make predictions using the trained model\n",
    "y_pred = pipeline.predict(X)\n",
    "\n",
    "# Calculate the mean squared error (MSE)\n",
    "mse = mean_squared_error(y, y_pred)\n",
    "\n",
    "# Calculate the coefficient of determination (R^2)\n",
    "r2 = r2_score(y, y_pred)\n",
    "\n",
    "# Display the MSE and R^2 values\n",
    "print(\"Mean Squared Error (MSE):\", mse)\n",
    "print(\"Coefficient of Determination (R^2):\", r2)"
   ]
  },
  {
   "cell_type": "markdown",
   "metadata": {},
   "source": [
    "4. For the same set of features, split the data into training and testing data parts. Assume testing part to be 20%. Create and fit a Ridge regression object using the training data, set the regularization parameter to 0.1, and calculate the R^2 using the test data.\n",
    "\n",
    "Write a python code that can perform the following tasks.\n",
    "\n",
    "1. Assuming that a subset of the attributes of a data frame are source attributes and one of the attributes is a target attribute, split the data into training and testing data assuming the testing data to be 20%.\n",
    "2. Create and fit a Ridge regression model using the training data, setting the regularization parameter to 0.1.\n",
    "3. Calculate the MSE and R^2 values for the Ridge Regression model using the testing data."
   ]
  },
  {
   "cell_type": "code",
   "execution_count": null,
   "metadata": {},
   "outputs": [],
   "source": [
    "# ChatGPT code\n",
    "\n",
    "import pandas as pd\n",
    "from sklearn.model_selection import train_test_split\n",
    "from sklearn.linear_model import Ridge\n",
    "from sklearn.metrics import mean_squared_error, r2_score\n",
    "\n",
    "# Example dataset (replace this with your actual dataset)\n",
    "data = {\n",
    "    'feature1': [1, 2, 3, 4, 5],\n",
    "    'feature2': [10, 20, 30, 40, 50],\n",
    "    'feature3': [5, 10, 15, 20, 25],\n",
    "    'target': [7, 14, 21, 28, 35]\n",
    "}\n",
    "df = pd.DataFrame(data)\n",
    "\n",
    "# Define source attributes (features) and target attribute\n",
    "X = df[['feature1', 'feature2', 'feature3']]\n",
    "y = df['target']\n",
    "\n",
    "# 1. Split the data into training (80%) and testing (20%) subsets\n",
    "X_train, X_test, y_train, y_test = train_test_split(X, y, test_size=0.2, random_state=42)\n",
    "\n",
    "# 2. Create and fit a Ridge regression model with alpha=0.1\n",
    "ridge_model = Ridge(alpha=0.1)\n",
    "ridge_model.fit(X_train, y_train)\n",
    "\n",
    "# 3. Calculate predictions, MSE, and R^2\n",
    "y_pred = ridge_model.predict(X_test)\n",
    "mse = mean_squared_error(y_test, y_pred)\n",
    "r2 = r2_score(y_test, y_pred)\n",
    "\n",
    "# Display results\n",
    "print(f\"Mean Squared Error (MSE): {mse}\")\n",
    "print(f\"R^2: {r2}\")\n"
   ]
  },
  {
   "cell_type": "code",
   "execution_count": 30,
   "metadata": {},
   "outputs": [
    {
     "name": "stdout",
     "output_type": "stream",
     "text": [
      "Mean Squared Error (MSE): 8875565.425894488\n",
      "R^2: 0.6181755645531503\n"
     ]
    }
   ],
   "source": [
    "# My own code\n",
    "from sklearn.model_selection import train_test_split\n",
    "from sklearn.linear_model import Ridge\n",
    "from sklearn.metrics import mean_squared_error, r2_score\n",
    "\n",
    "# Define the feature set and target variable\n",
    "X = df1[['year', 'mileage', 'tax', 'mpg', 'engineSize']]\n",
    "y = df1['price']\n",
    "\n",
    "# Split the data into training and testing sets (80% training, 20% testing)\n",
    "X_train, X_test, y_train, y_test = train_test_split(X, y, test_size=0.2, random_state=42)\n",
    "\n",
    "# Create and fit a Ridge regression model using the training data, setting the regularization parameter alpha=0.1\n",
    "ridge_model = Ridge(alpha=0.1)\n",
    "ridge_model.fit(X_train, y_train)\n",
    "\n",
    "# Calculate predictions, MSE and R^2\n",
    "y_pred = ridge_model.predict(X_test)\n",
    "mse = mean_squared_error(y_test, y_pred)\n",
    "r2 = r2_score(y_test, y_pred)\n",
    "\n",
    "# Display the results\n",
    "print(f\"Mean Squared Error (MSE): {mse}\")\n",
    "print(f\"R^2: {r2}\")"
   ]
  },
  {
   "cell_type": "markdown",
   "metadata": {},
   "source": [
    "5. Perform a second order polynomial transform on both the training data and testing data created for the question above. Create and fit a Ridge regression object using the modified training data, set the regularisation parameter to 0.1, and calculate the R^2 and MSE utilising the modified test data.\n",
    "\n",
    "Write a python code that can perform the following tasks.\n",
    "\n",
    "1. Assuming that a subset of the attributes of a data frame are source attributes and one of the attributes is a target attribute, split the data into training and testing data assuming the testing data to be 20%.\n",
    "2. Apply second degree polynomial scaling to the training and testing data.\n",
    "3. Create and fit a Ridge regression model using the training data, setting the regularization parameter to 0.1.\n",
    "4. Calculate the MSE and R^2 values for the Ridge Regression model using the testing data."
   ]
  },
  {
   "cell_type": "code",
   "execution_count": null,
   "metadata": {},
   "outputs": [],
   "source": [
    "# ChatGPT code\n",
    "import pandas as pd\n",
    "from sklearn.model_selection import train_test_split\n",
    "from sklearn.preprocessing import PolynomialFeatures, StandardScaler\n",
    "from sklearn.linear_model import Ridge\n",
    "from sklearn.metrics import mean_squared_error, r2_score\n",
    "from sklearn.pipeline import Pipeline\n",
    "\n",
    "# Example dataset (replace this with your actual dataset)\n",
    "data = {\n",
    "    'feature1': [1, 2, 3, 4, 5],\n",
    "    'feature2': [10, 20, 30, 40, 50],\n",
    "    'feature3': [5, 10, 15, 20, 25],\n",
    "    'target': [7, 14, 21, 28, 35]\n",
    "}\n",
    "df = pd.DataFrame(data)\n",
    "\n",
    "# Define source attributes (features) and target attribute\n",
    "X = df[['feature1', 'feature2', 'feature3']]\n",
    "y = df['target']\n",
    "\n",
    "# 1. Split the data into training (80%) and testing (20%) subsets\n",
    "X_train, X_test, y_train, y_test = train_test_split(X, y, test_size=0.2, random_state=42)\n",
    "\n",
    "# 2. Create a pipeline for polynomial scaling and Ridge regression\n",
    "pipeline = Pipeline([\n",
    "    ('poly', PolynomialFeatures(degree=2)),  # Second-degree polynomial features\n",
    "    ('scaler', StandardScaler()),           # Standardize the features\n",
    "    ('ridge', Ridge(alpha=0.1))             # Ridge regression with alpha=0.1\n",
    "])\n",
    "\n",
    "# 3. Fit the pipeline to the training data\n",
    "pipeline.fit(X_train, y_train)\n",
    "\n",
    "# 4. Predict and calculate evaluation metrics\n",
    "y_pred = pipeline.predict(X_test)\n",
    "mse = mean_squared_error(y_test, y_pred)\n",
    "r2 = r2_score(y_test, y_pred)\n",
    "\n",
    "# Display results\n",
    "print(f\"Mean Squared Error (MSE): {mse}\")\n",
    "print(f\"R^2: {r2}\")\n"
   ]
  },
  {
   "cell_type": "code",
   "execution_count": 31,
   "metadata": {},
   "outputs": [
    {
     "name": "stdout",
     "output_type": "stream",
     "text": [
      "Mean Squared Error (MSE): 8450414.407663064\n",
      "R^2: 0.6364654469128994\n"
     ]
    }
   ],
   "source": [
    "# My own code\n",
    "from sklearn.model_selection import train_test_split\n",
    "from sklearn.preprocessing import PolynomialFeatures, StandardScaler\n",
    "from sklearn.linear_model import Ridge\n",
    "from sklearn.metrics import mean_squared_error, r2_score\n",
    "from sklearn.pipeline import Pipeline\n",
    "\n",
    "# Define the feature set and target variable\n",
    "X = df1[['year', 'mileage', 'tax', 'mpg', 'engineSize']]\n",
    "y = df1['price']\n",
    "\n",
    "# Split the data into training and testing sets (80% training, 20% testing) \n",
    "X_train, X_test, y_train, y_test = train_test_split(X, y, test_size=0.2, random_state=42)\n",
    "\n",
    "# Create a pipeline for polynomial scaling and Ridge regression\n",
    "pipeline = Pipeline([\n",
    "    ('poly', PolynomialFeatures(degree=2)),  # Second-degree polynomial features\n",
    "    ('scaler', StandardScaler()),           # Standardize the features\n",
    "    ('ridge', Ridge(alpha=0.1))              # Ridge regression with alpha=0.1\n",
    "])\n",
    "\n",
    "# Fit the pipeline to the training data     \n",
    "pipeline.fit(X_train, y_train)\n",
    "\n",
    "# Predict and calculate evaluation metrics\n",
    "y_pred = pipeline.predict(X_test)\n",
    "mse = mean_squared_error(y_test, y_pred)\n",
    "r2 = r2_score(y_test, y_pred)\n",
    "\n",
    "# Display the results\n",
    "print(f\"Mean Squared Error (MSE): {mse}\")\n",
    "print(f\"R^2: {r2}\")\n"
   ]
  },
  {
   "cell_type": "markdown",
   "metadata": {},
   "source": [
    "6. In the question above, perform a Grid Search on ridge regression for a set of values of alpha {0.01, 0.1, 1, 10, 100} with 4-fold cross     validation to find the optimum value of alpha to be used for the prediction model.\n",
    "\n",
    "Write a python code that can perform the following tasks.\n",
    "\n",
    "1. Assuming that a subset of the attributes of a data frame are source attributes and one of the attributes is a target attribute, split the data into training and testing data assuming the testing data to be 20%.\n",
    "2. Apply second degree polynomial scaling to the training and testing data.\n",
    "3. Create and fit a Grid search on Ridge regression with cross validation using the training data, for a set of values of the parameter alpha.\n",
    "4. Calculate the MSE and R^2 values for the Ridge Regression model using the testing data.\n"
   ]
  },
  {
   "cell_type": "code",
   "execution_count": null,
   "metadata": {},
   "outputs": [],
   "source": [
    "# ChatGPT code\n",
    "\n",
    "import pandas as pd\n",
    "from sklearn.model_selection import train_test_split, GridSearchCV\n",
    "from sklearn.preprocessing import PolynomialFeatures, StandardScaler\n",
    "from sklearn.linear_model import Ridge\n",
    "from sklearn.pipeline import Pipeline\n",
    "from sklearn.metrics import mean_squared_error, r2_score\n",
    "\n",
    "# Example dataset (replace this with your actual dataset)\n",
    "data = {\n",
    "    'feature1': [1, 2, 3, 4, 5],\n",
    "    'feature2': [10, 20, 30, 40, 50],\n",
    "    'feature3': [5, 10, 15, 20, 25],\n",
    "    'target': [7, 14, 21, 28, 35]\n",
    "}\n",
    "df = pd.DataFrame(data)\n",
    "\n",
    "# Define source attributes (features) and target attribute\n",
    "X = df[['feature1', 'feature2', 'feature3']]\n",
    "y = df['target']\n",
    "\n",
    "# 1. Split the data into training (80%) and testing (20%) subsets\n",
    "X_train, X_test, y_train, y_test = train_test_split(X, y, test_size=0.2, random_state=42)\n",
    "\n",
    "# 2. Create a pipeline for polynomial scaling and Ridge regression\n",
    "pipeline = Pipeline([\n",
    "    ('poly', PolynomialFeatures(degree=2)),  # Second-degree polynomial features\n",
    "    ('scaler', StandardScaler()),           # Standardize the features\n",
    "    ('ridge', Ridge())                      # Ridge regression placeholder for GridSearchCV\n",
    "])\n",
    "\n",
    "# 3. Perform a Grid Search with Cross Validation for Ridge Regression\n",
    "param_grid = {'ridge__alpha': [0.01, 0.1, 1, 10, 100]}  # Range of alpha values\n",
    "grid_search = GridSearchCV(pipeline, param_grid, cv=5, scoring='r2')  # 5-fold cross-validation\n",
    "grid_search.fit(X_train, y_train)\n",
    "\n",
    "# Best model from grid search\n",
    "best_model = grid_search.best_estimator_\n",
    "\n",
    "# 4. Predict and calculate evaluation metrics using the testing data\n",
    "y_pred = best_model.predict(X_test)\n",
    "mse = mean_squared_error(y_test, y_pred)\n",
    "r2 = r2_score(y_test, y_pred)\n",
    "\n",
    "# Display results\n",
    "print(f\"Best Alpha: {grid_search.best_params_['ridge__alpha']}\")\n",
    "print(f\"Mean Squared Error (MSE): {mse}\")\n",
    "print(f\"R^2: {r2}\")\n"
   ]
  },
  {
   "cell_type": "code",
   "execution_count": 32,
   "metadata": {},
   "outputs": [
    {
     "name": "stdout",
     "output_type": "stream",
     "text": [
      "Mean Squared Error (MSE): 7548501.825917902\n",
      "Coefficient of Determination (R^2): 0.6721924363142379\n"
     ]
    }
   ],
   "source": [
    "# My own code\n",
    "\n",
    "from sklearn.model_selection import train_test_split, GridSearchCV\n",
    "from sklearn.preprocessing import PolynomialFeatures, StandardScaler\n",
    "from sklearn.linear_model import Ridge\n",
    "from sklearn.pipeline import Pipeline\n",
    "from sklearn.metrics import mean_squared_error, r2_score\n",
    "\n",
    "# Define the feature set and target variable    \n",
    "X = df1[['year', 'mileage', 'tax', 'mpg', 'engineSize']]\n",
    "y = df1['price']\n",
    "\n",
    "# Split the data into training and testing sets (80% training, 20% testing)\n",
    "X_train, X_test, y_train, y_test = train_test_split(X, y, test_size=0.2, random_state=42)\n",
    "\n",
    "# Create a pipeline for polynomial scaling and Ridge regression\n",
    "pipeline = Pipeline([\n",
    "    ('poly', PolynomialFeatures(degree=2)),  # Second-degree polynomial features\n",
    "    ('scaler', StandardScaler()),           # Standardize the features\n",
    "    ('ridge', Ridge())                      # Ridge regression placeholder for GridSearchCV\n",
    "])\n",
    "\n",
    "# Perform a Grid Search with Cross Validation for Ridge Regression\n",
    "param_grid = {'ridge__alpha': [0.01, 0.1, 1, 10, 100]}  # Range of alpha values\n",
    "grid_search = GridSearchCV(pipeline, param_grid, cv=4)  # 4-fold cross-validation\n",
    "grid_search.fit(X_train, y_train)\n",
    "\n",
    "# Make predictions using the trained model\n",
    "y_pred = grid_search.predict(X)\n",
    "\n",
    "# Calculate the mean squared error (MSE)\n",
    "mse = mean_squared_error(y, y_pred)\n",
    "\n",
    "# Calculate the coefficient of determination (R^2)\n",
    "r2 = r2_score(y, y_pred)\n",
    "\n",
    "# Display the MSE and R^2 values\n",
    "print(\"Mean Squared Error (MSE):\", mse)\n",
    "print(\"Coefficient of Determination (R^2):\", r2)"
   ]
  },
  {
   "cell_type": "markdown",
   "metadata": {},
   "source": [
    "## Conclusion\n",
    "Congratulations! You have completed this guided project on using Generative AI for different data science tasks.\n",
    "\n",
    "By the end of this project, you are now capable of using Generative AI for the tasks of:\n",
    "\n",
    "Data preparation - cleaning, transforming and augmentation\n",
    "Data analysis - drawing insight, creating visualizations\n",
    "Model development - creating simple as well as complex prediction models\n",
    "Model refinement - found the optimum model using Grid Search"
   ]
  }
 ],
 "metadata": {
  "kernelspec": {
   "display_name": "Python 3",
   "language": "python",
   "name": "python3"
  },
  "language_info": {
   "codemirror_mode": {
    "name": "ipython",
    "version": 3
   },
   "file_extension": ".py",
   "mimetype": "text/x-python",
   "name": "python",
   "nbconvert_exporter": "python",
   "pygments_lexer": "ipython3",
   "version": "3.12.4"
  }
 },
 "nbformat": 4,
 "nbformat_minor": 2
}
