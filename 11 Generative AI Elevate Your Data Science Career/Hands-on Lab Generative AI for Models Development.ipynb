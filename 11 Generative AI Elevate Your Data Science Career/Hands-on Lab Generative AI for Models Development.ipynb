{
 "cells": [
  {
   "cell_type": "markdown",
   "metadata": {
    "tags": [
     "parameters"
    ]
   },
   "source": [
    "## Lab: Generative AI for Models Development \n",
    "Estimated time: 30 minutes\n",
    "In this lab, we will use generative AI to create Python scripts to develop and evaluate different predictive models for a given data set.\n",
    "\n",
    "## Learning objectives\n",
    "In this lab, you will learn how to use generative AI to create Python codes that can:\n",
    "\n",
    "Use linear regression in one variable to fit the parameters to a model\n",
    "Use linear regression in multiple variables to fit the parameters to a model\n",
    "Use polynomial regression in a single variable to fit the parameters to a model\n",
    "Create a pipeline for performing linear regression using multiple features in polynomial scaling\n",
    "Use the grid search with cross-validation and ridge regression to create a model with optimum hyperparameters\n",
    "\n",
    "## Code execution environment\n",
    "To test the prompt-generated code, keep the Jupyter Notebook (in the link below) open in a separate tab in your web browser. The notebook has some setup instructions that you should complete now.\n",
    "\n",
    "Jupyter-Lite Test Environment\n",
    "\n",
    "The data set for this lab is available in the following URL.\n",
    "\n",
    "\n",
    "URL = \"https://cf-courses-data.s3.us.cloud-object-storage.appdomain.cloud/IBMDeveloperSkillsNetwork-DA0101EN-Coursera/laptop_pricing_dataset_mod2.csv\"\n",
    "Copied!\n",
    "The dataset is a filtered and modified version of the Laptop Price Prediction using specifications dataset, available under the Database Contents License (DbCL) v1.0 on the Kaggle website.\n",
    "\n",
    "Complete the setup in the Jupyter Notebook and then proceed further."
   ]
  },
  {
   "cell_type": "markdown",
   "metadata": {},
   "source": [
    "## Building the prompt: Importing data set\n",
    "Now you will start building your prompt. The first step is to ask the Gen AI model to generate a code to import the provided dataset to a Pandas' data frame. You must specify if you imported the data. Then, you should see the dataset headers in the first row of the CSV file.\n",
    "\n",
    "You can structure the prompt to create the code as follows:\n",
    "\n",
    "1 Write a Python code that can perform the following tasks.\n",
    "\n",
    "2 Read the CSV file, located on a given file path, into a pandas data frame, assuming that the first row of the file can be used as the headers for the data.\n",
    "\n",
    "Running this prompt using the GPT 3.5 engine in the GenAI classroom should result in a response that contains the code, as shown below.\n"
   ]
  },
  {
   "cell_type": "code",
   "execution_count": 1,
   "metadata": {},
   "outputs": [],
   "source": [
    "URL = \"https://cf-courses-data.s3.us.cloud-object-storage.appdomain.cloud/IBMDeveloperSkillsNetwork-DA0101EN-Coursera/laptop_pricing_dataset_mod2.csv\""
   ]
  },
  {
   "cell_type": "code",
   "execution_count": 2,
   "metadata": {},
   "outputs": [],
   "source": [
    "import pandas as pd\n",
    "\n",
    "# Define the file path\n",
    "file_path = URL\n",
    "\n",
    "# Read the CSV file into a pandas data frame\n",
    "data_frame = pd.read_csv(file_path)\n",
    "\n",
    "# Assume the first row of the file can be used as the headers for the data\n",
    "# If the file doesn't have headers, you can remove the 'header' parameter\n",
    "data_frame = pd.read_csv(file_path, header=0)\n",
    "\n",
    "# Additional details:\n",
    "# - The 'pd.read_csv()' function is used to read a CSV file into a pandas data frame.\n",
    "# - The 'header' parameter in the 'pd.read_csv()' function specifies which row to use as the headers.\n",
    "#   By default, it is set to 'infer', which means pandas will try to infer the headers from the file.\n",
    "#   If the headers are in the first row, you can set the 'header' parameter to 0."
   ]
  },
  {
   "cell_type": "markdown",
   "metadata": {},
   "source": [
    "## Linear regression in one variable\n",
    "You can now ask the generative AI model to generate a script to create a linear regression model using a single attribute as the training feature to predict a target attribute.\n",
    "\n",
    "You can write the prompt as follows:"
   ]
  },
  {
   "cell_type": "markdown",
   "metadata": {},
   "source": [
    "Write a Python code that performs the following tasks.\n",
    "1. Develops and trains a linear regression model that uses one attribute of a data frame as the source variable and another as a target variable.\n",
    "2. Calculate and display the MSE and R^2 values for the trained model"
   ]
  },
  {
   "cell_type": "code",
   "execution_count": 4,
   "metadata": {},
   "outputs": [
    {
     "name": "stdout",
     "output_type": "stream",
     "text": [
      "<class 'pandas.core.frame.DataFrame'>\n",
      "RangeIndex: 238 entries, 0 to 237\n",
      "Data columns (total 16 columns):\n",
      " #   Column            Non-Null Count  Dtype  \n",
      "---  ------            --------------  -----  \n",
      " 0   Unnamed: 0.1      238 non-null    int64  \n",
      " 1   Unnamed: 0        238 non-null    int64  \n",
      " 2   Manufacturer      238 non-null    object \n",
      " 3   Category          238 non-null    int64  \n",
      " 4   GPU               238 non-null    int64  \n",
      " 5   OS                238 non-null    int64  \n",
      " 6   CPU_core          238 non-null    int64  \n",
      " 7   Screen_Size_inch  238 non-null    float64\n",
      " 8   CPU_frequency     238 non-null    float64\n",
      " 9   RAM_GB            238 non-null    int64  \n",
      " 10  Storage_GB_SSD    238 non-null    int64  \n",
      " 11  Weight_pounds     238 non-null    float64\n",
      " 12  Price             238 non-null    int64  \n",
      " 13  Price-binned      238 non-null    object \n",
      " 14  Screen-Full_HD    238 non-null    int64  \n",
      " 15  Screen-IPS_panel  238 non-null    int64  \n",
      "dtypes: float64(3), int64(11), object(2)\n",
      "memory usage: 29.9+ KB\n"
     ]
    }
   ],
   "source": [
    "data_frame.info()"
   ]
  },
  {
   "cell_type": "code",
   "execution_count": 5,
   "metadata": {},
   "outputs": [
    {
     "name": "stdout",
     "output_type": "stream",
     "text": [
      "Mean Squared Error (MSE): 284583.4405868629\n",
      "Coefficient of Determination (R^2): 0.1344436321024326\n"
     ]
    }
   ],
   "source": [
    "import pandas as pd\n",
    "from sklearn.linear_model import LinearRegression\n",
    "from sklearn.metrics import mean_squared_error, r2_score\n",
    "\n",
    "# Assume you have a pandas data frame called 'data_frame' with two columns: 'source_variable' and 'target_variable'\n",
    "\n",
    "# Extract the source variable and target variable from the data frame\n",
    "X = data_frame[['CPU_frequency']]\n",
    "y = data_frame['Price']\n",
    "\n",
    "# Initialize a linear regression model\n",
    "model = LinearRegression()\n",
    "\n",
    "# Train the model using the source and target variables\n",
    "model.fit(X, y)\n",
    "\n",
    "# Make predictions using the trained model\n",
    "y_pred = model.predict(X)\n",
    "\n",
    "# Calculate the mean squared error (MSE)\n",
    "mse = mean_squared_error(y, y_pred)\n",
    "\n",
    "# Calculate the coefficient of determination (R^2)\n",
    "r2 = r2_score(y, y_pred)\n",
    "\n",
    "# Display the MSE and R^2 values\n",
    "print(\"Mean Squared Error (MSE):\", mse)\n",
    "print(\"Coefficient of Determination (R^2):\", r2)\n",
    "\n",
    "# Additional details:\n",
    "# - The 'LinearRegression' class from the 'sklearn.linear_model' module is used to create a linear regression model.\n",
    "# - The 'fit()' method is used to train the model using the source and target variables.\n",
    "# - The 'predict()' method is used to make predictions using the trained model.\n",
    "# - The 'mean_squared_error()' function from the 'sklearn.metrics' module is used to calculate the MSE.\n",
    "# - The 'r2_score()' function from the 'sklearn.metrics' module is used to calculate the R^2 value."
   ]
  },
  {
   "cell_type": "markdown",
   "metadata": {},
   "source": [
    "## Linear regression in multiple variables\n",
    "You can modify the prompt to ask for a code that uses multiple attributes as input for training a model to predict the value of a target variable.\n",
    "\n",
    "For that, you can use the prompt as shown below:"
   ]
  },
  {
   "cell_type": "code",
   "execution_count": 6,
   "metadata": {},
   "outputs": [
    {
     "name": "stdout",
     "output_type": "stream",
     "text": [
      "Mean Squared Error (MSE): 161680.57263893104\n",
      "Coefficient of Determination (R^2): 0.5082509055187376\n"
     ]
    }
   ],
   "source": [
    "import pandas as pd\n",
    "from sklearn.linear_model import LinearRegression\n",
    "from sklearn.metrics import mean_squared_error, r2_score\n",
    "\n",
    "# Assume you have a pandas data frame called 'data_frame' with multiple columns: 'source_variable_1', 'source_variable_2', ..., 'target_variable'\n",
    "\n",
    "# Extract the source variables and target variable from the data frame\n",
    "X = data_frame[['CPU_frequency', 'RAM_GB', 'Storage_GB_SSD', 'CPU_core', 'OS', 'GPU', 'Category']]\n",
    "y = data_frame['Price']\n",
    "\n",
    "# Initialize a linear regression model\n",
    "model = LinearRegression()\n",
    "\n",
    "# Train the model using the source and target variables\n",
    "model.fit(X, y)\n",
    "\n",
    "# Make predictions using the trained model\n",
    "y_pred = model.predict(X)\n",
    "\n",
    "# Calculate the mean squared error (MSE)\n",
    "mse = mean_squared_error(y, y_pred)\n",
    "\n",
    "# Calculate the coefficient of determination (R^2)\n",
    "r2 = r2_score(y, y_pred)\n",
    "\n",
    "# Display the MSE and R^2 values\n",
    "print(\"Mean Squared Error (MSE):\", mse)\n",
    "print(\"Coefficient of Determination (R^2):\", r2)\n",
    "\n",
    "# Additional details:\n",
    "# - The 'LinearRegression' class from the 'sklearn.linear_model' module is used to create a linear regression model.\n",
    "# - The 'fit()' method is used to train the model using the source and target variables.\n",
    "# - The 'predict()' method is used to make predictions using the trained model.\n",
    "# - The 'mean_squared_error()' function from the 'sklearn.metrics' module is used to calculate the MSE.\n",
    "# - The 'r2_score()' function from the 'sklearn.metrics' module is used to calculate the R^2 value."
   ]
  },
  {
   "cell_type": "markdown",
   "metadata": {},
   "source": [
    "## Polynomial regression\n",
    "You can explore creating a model that uses higher-order features from original attributes. Higher orders of the same feature allow better generalization on the target variable. It is called polynomial regression, and you can use Generative AI to create a code for this.\n",
    "\n",
    "Assume you are given a single attribute as the source variable and one as a target variable. You must create a model using polynomial regression for a given order. You can also make the model for different order values and compare their performance based on MSE and R^2 scores.\n",
    "\n",
    "You can write a similar prompt to the following code:\n",
    "\n",
    "Write a Python code that performs the following tasks.\n",
    "1. Develops and trains multiple polynomial regression models, with orders 2, 3, and 5, that use one attribute of a data frame as the source variable and another as a target variable.\n",
    "2. Calculate and display the MSE and R^2 values for the trained models.\n",
    "3. Compare the performance of the models."
   ]
  },
  {
   "cell_type": "code",
   "execution_count": 7,
   "metadata": {},
   "outputs": [
    {
     "name": "stdout",
     "output_type": "stream",
     "text": [
      "Polynomial Order 2:\n",
      "Mean Squared Error (MSE): 249022.66596751154\n",
      "Coefficient of Determination (R^2): 0.2426012074542384\n",
      "\n",
      "Polynomial Order 3:\n",
      "Mean Squared Error (MSE): 241024.8630384869\n",
      "Coefficient of Determination (R^2): 0.26692640796531353\n",
      "\n",
      "Polynomial Order 5:\n",
      "Mean Squared Error (MSE): 229137.29548054773\n",
      "Coefficient of Determination (R^2): 0.30308227064435145\n",
      "\n",
      "Model Comparison:\n",
      "Best Polynomial Order: 4\n",
      "Worst Polynomial Order: 4\n"
     ]
    }
   ],
   "source": [
    "import pandas as pd\n",
    "import numpy as np\n",
    "from sklearn.linear_model import LinearRegression\n",
    "from sklearn.preprocessing import PolynomialFeatures\n",
    "from sklearn.metrics import mean_squared_error, r2_score\n",
    "\n",
    "# Assume you have a pandas data frame called 'data_frame' with two columns: 'source_variable' and 'target_variable'\n",
    "\n",
    "# Extract the source variable and target variable from the data frame\n",
    "X = data_frame[['CPU_frequency']]\n",
    "y = data_frame['Price']\n",
    "\n",
    "# Initialize lists to store the MSE and R^2 values for each model\n",
    "mse_values = []\n",
    "r2_values = []\n",
    "\n",
    "# Loop through the polynomial orders\n",
    "for order in [2, 3, 5]:\n",
    "    # Create polynomial features\n",
    "    polynomial_features = PolynomialFeatures(degree=order)\n",
    "    X_poly = polynomial_features.fit_transform(X)\n",
    "\n",
    "    # Initialize a linear regression model\n",
    "    model = LinearRegression()\n",
    "\n",
    "    # Train the model using the polynomial features and target variable\n",
    "    model.fit(X_poly, y)\n",
    "\n",
    "    # Make predictions using the trained model\n",
    "    y_pred = model.predict(X_poly)\n",
    "\n",
    "    # Calculate the mean squared error (MSE)\n",
    "    mse = mean_squared_error(y, y_pred)\n",
    "\n",
    "    # Calculate the coefficient of determination (R^2)\n",
    "    r2 = r2_score(y, y_pred)\n",
    "\n",
    "    # Append the MSE and R^2 values to the lists\n",
    "    mse_values.append(mse)\n",
    "    r2_values.append(r2)\n",
    "\n",
    "    # Display the MSE and R^2 values for the current model\n",
    "    print(f\"Polynomial Order {order}:\")\n",
    "    print(\"Mean Squared Error (MSE):\", mse)\n",
    "    print(\"Coefficient of Determination (R^2):\", r2)\n",
    "    print()\n",
    "\n",
    "# Compare the performance of the models\n",
    "best_order = np.argmin(mse_values)\n",
    "worst_order = np.argmax(r2_values)\n",
    "\n",
    "print(\"Model Comparison:\")\n",
    "print(f\"Best Polynomial Order: {best_order + 2}\")\n",
    "print(f\"Worst Polynomial Order: {worst_order + 2}\")\n",
    "\n",
    "# Additional details:\n",
    "# - The 'PolynomialFeatures' class from the 'sklearn.preprocessing' module is used to create polynomial features.\n",
    "# - The 'fit_transform()' method is used to transform the source variable into polynomial features.\n",
    "# - The 'degree' parameter in the 'PolynomialFeatures' class specifies the maximum degree of the polynomial features.\n",
    "# - The 'argmin()' and 'argmax()' functions from the 'numpy' module are used to find the index of the minimum and maximum values in a list, respectively."
   ]
  },
  {
   "cell_type": "markdown",
   "metadata": {},
   "source": [
    "## Creating a Pipeline\n",
    "Pipelines are processes containing a sequence of steps that lead to creating a trained model.\n",
    "\n",
    "You will now use the Generative AI model to create a pipeline for performing feature scaling, creating polynomial features for multiple attributes, and performing linear regression using these variables.\n",
    "\n",
    "You can build a similar prompt to the following code:\n",
    "\n",
    "Write a Python code that performs the following tasks.\n",
    "1. Create a pipeline that performs parameter scaling, Polynomial Feature generation, and Linear regression. Use the set of multiple features as before to create this pipeline.\n",
    "2. Calculate and display the MSE and R^2 values for the trained model.\n",
    "\n"
   ]
  },
  {
   "cell_type": "code",
   "execution_count": 8,
   "metadata": {},
   "outputs": [
    {
     "name": "stdout",
     "output_type": "stream",
     "text": [
      "Mean Squared Error (MSE): 125481.23266806723\n",
      "Coefficient of Determination (R^2): 0.6183506680377958\n"
     ]
    }
   ],
   "source": [
    "import pandas as pd\n",
    "import numpy as np\n",
    "from sklearn.pipeline import make_pipeline\n",
    "from sklearn.preprocessing import StandardScaler, PolynomialFeatures\n",
    "from sklearn.linear_model import LinearRegression\n",
    "from sklearn.metrics import mean_squared_error, r2_score\n",
    "\n",
    "# Assume you have a pandas data frame called 'data_frame' with multiple columns: 'source_variable_1', 'source_variable_2', ..., 'target_variable'\n",
    "\n",
    "# Extract the source variables and target variable from the data frame\n",
    "X = data_frame[['CPU_frequency', 'RAM_GB', 'Storage_GB_SSD', 'CPU_core', 'OS', 'GPU', 'Category']]\n",
    "y = data_frame['Price']\n",
    "\n",
    "# Create a pipeline that performs parameter scaling, polynomial feature generation, and linear regression\n",
    "pipeline = make_pipeline(\n",
    "    StandardScaler(),\n",
    "    PolynomialFeatures(degree=2),\n",
    "    LinearRegression()\n",
    ")\n",
    "\n",
    "# Train the model using the source and target variables\n",
    "pipeline.fit(X, y)\n",
    "\n",
    "# Make predictions using the trained model\n",
    "y_pred = pipeline.predict(X)\n",
    "\n",
    "# Calculate the mean squared error (MSE)\n",
    "mse = mean_squared_error(y, y_pred)\n",
    "\n",
    "# Calculate the coefficient of determination (R^2)\n",
    "r2 = r2_score(y, y_pred)\n",
    "\n",
    "# Display the MSE and R^2 values\n",
    "print(\"Mean Squared Error (MSE):\", mse)\n",
    "print(\"Coefficient of Determination (R^2):\", r2)\n",
    "\n",
    "# Additional details:\n",
    "# - The 'make_pipeline()' function from the 'sklearn.pipeline' module is used to create a pipeline.\n",
    "# - The 'StandardScaler' class from the 'sklearn.preprocessing' module is used to perform parameter scaling.\n",
    "# - The 'PolynomialFeatures' class from the 'sklearn.preprocessing' module is used to create polynomial features.\n",
    "# - The 'LinearRegression' class from the 'sklearn.linear_model' module is used for linear regression.\n",
    "# - The pipeline automatically applies the transformations in the specified order."
   ]
  },
  {
   "cell_type": "markdown",
   "metadata": {},
   "source": [
    "## Grid search and Ridge regression\n",
    "An improved way to train your model is to use ridge regression instead of linear regression. You can use the polynomial features of multiple attributes. One of the key factors of ridge regression is using the parameter alpha as a hyperparameter for training. Using grid search, one can determine the optimum value of the hyperparameter for the given set of features. Grid search also uses cross-validation training to train and prepare the optimum model.\n",
    "\n",
    "You can use generative AI to create the Python code to perform a grid search for the optimum ridge regression model, which uses polynomial features generated from multiple parameters.\n",
    "\n",
    "You may use the following prompt to create this:\n",
    "\n",
    "Write a Python code that performs the following tasks.\n",
    "1. Use polynomial features for some of the attributes of a data frame.\n",
    "2. Perform Grid search on a ridge regression model for a set of values of hyperparameter alpha and polynomial features as input.\n",
    "3. Use cross-validation in the Grid search.\n",
    "4. Evaluate the resulting model's MSE and R^2 values."
   ]
  },
  {
   "cell_type": "code",
   "execution_count": 11,
   "metadata": {},
   "outputs": [
    {
     "name": "stdout",
     "output_type": "stream",
     "text": [
      "Mean Squared Error (MSE): 128987.0407869953\n",
      "Coefficient of Determination (R^2): 0.6076878039733669\n"
     ]
    }
   ],
   "source": [
    "import pandas as pd\n",
    "import numpy as np\n",
    "from sklearn.model_selection import GridSearchCV\n",
    "from sklearn.preprocessing import PolynomialFeatures\n",
    "from sklearn.linear_model import Ridge\n",
    "from sklearn.metrics import mean_squared_error, r2_score\n",
    "from sklearn.pipeline import Pipeline\n",
    "\n",
    "# Extract the source variables and target variable from the data frame\n",
    "X = data_frame[['CPU_frequency', 'RAM_GB', 'Storage_GB_SSD', 'CPU_core', 'OS', 'GPU', 'Category']]\n",
    "y = data_frame['Price']\n",
    "\n",
    "# Define the pipeline with polynomial features and Ridge regression\n",
    "pipeline = Pipeline([\n",
    "    ('poly', PolynomialFeatures(degree=2)),  # Specify degree=2 here\n",
    "    ('ridge', Ridge())  # Ridge regression\n",
    "])\n",
    "\n",
    "# Define the hyperparameter values for the grid search\n",
    "param_grid = {'ridge__alpha': [0.0001, 0.001, 0.01, 0.1, 1, 10]}  # Only include alpha for Ridge\n",
    "\n",
    "# Perform grid search with 4-fold cross-validation\n",
    "grid_search = GridSearchCV(pipeline, param_grid, cv=4)\n",
    "\n",
    "# Train the model using the pipeline and target variable\n",
    "grid_search.fit(X, y)\n",
    "\n",
    "# Make predictions using the trained model\n",
    "y_pred = grid_search.predict(X)\n",
    "\n",
    "# Calculate the mean squared error (MSE)\n",
    "mse = mean_squared_error(y, y_pred)\n",
    "\n",
    "# Calculate the coefficient of determination (R^2)\n",
    "r2 = r2_score(y, y_pred)\n",
    "\n",
    "# Display the MSE and R^2 values\n",
    "print(\"Mean Squared Error (MSE):\", mse)\n",
    "print(\"Coefficient of Determination (R^2):\", r2)\n",
    "\n",
    "\n",
    "# Additional details:\n",
    "# - The 'PolynomialFeatures' class from the 'sklearn.preprocessing' module is used to create polynomial features.\n",
    "# - The 'GridSearchCV' class from the 'sklearn.model_selection' module is used to perform grid search with cross-validation.\n",
    "# - The 'Ridge' class from the 'sklearn.linear_model' module is used for ridge regression.\n",
    "# - The 'fit_transform()' method is used to transform the source variables into polynomial features.\n",
    "# - The 'param_grid' parameter in the 'GridSearchCV' class specifies the hyperparameter values to search over.\n",
    "# - The 'cv' parameter in the 'GridSearchCV' class specifies the number of folds for cross-validation.\n",
    "# - The best model found by grid search can be accessed using the 'best_estimator_' attribute of the grid search object."
   ]
  },
  {
   "cell_type": "markdown",
   "metadata": {},
   "source": [
    "## Conclusion\n",
    "Congratulations! You have completed the lab on Data preparation.\n",
    "\n",
    "With this, you have learned how to use generative AI to create Python codes that can:\n",
    "\n",
    "Implement linear regression in single variable\n",
    "Implement linear regression in multiple variables\n",
    "Implement polynomial regression for different orders of a single variable\n",
    "Create a pipeline that implements polynomial scaling for multiple variables and performs linear regression on them\n",
    "Apply a grid search to create an optimum ridge regression model for multiple features"
   ]
  }
 ],
 "metadata": {
  "kernelspec": {
   "display_name": "Python 3",
   "language": "python",
   "name": "python3"
  },
  "language_info": {
   "codemirror_mode": {
    "name": "ipython",
    "version": 3
   },
   "file_extension": ".py",
   "mimetype": "text/x-python",
   "name": "python",
   "nbconvert_exporter": "python",
   "pygments_lexer": "ipython3",
   "version": "3.12.4"
  }
 },
 "nbformat": 4,
 "nbformat_minor": 2
}
